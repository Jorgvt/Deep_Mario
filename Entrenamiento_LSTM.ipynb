{
 "metadata": {
  "language_info": {
   "codemirror_mode": {
    "name": "ipython",
    "version": 3
   },
   "file_extension": ".py",
   "mimetype": "text/x-python",
   "name": "python",
   "nbconvert_exporter": "python",
   "pygments_lexer": "ipython3",
   "version": "3.8.5-final"
  },
  "orig_nbformat": 2,
  "kernelspec": {
   "name": "python3",
   "display_name": "Python 3.8.5 64-bit ('Master': conda)",
   "metadata": {
    "interpreter": {
     "hash": "57d46a1f3f975f92cc34d815bf69a7d3644582cc16f1cedc66cb95f17202c91e"
    }
   }
  }
 },
 "nbformat": 4,
 "nbformat_minor": 2,
 "cells": [
  {
   "cell_type": "code",
   "execution_count": 1,
   "metadata": {},
   "outputs": [],
   "source": [
    "import numpy as np\n",
    "import matplotlib.pyplot as plt\n",
    "import cv2\n",
    "import torch\n",
    "import torch.nn as nn\n",
    "import torchvision\n",
    "import glob"
   ]
  },
  {
   "cell_type": "code",
   "execution_count": 2,
   "metadata": {},
   "outputs": [
    {
     "output_type": "execute_result",
     "data": {
      "text/plain": [
       "device(type='cuda')"
      ]
     },
     "metadata": {},
     "execution_count": 2
    }
   ],
   "source": [
    "device = device = torch.device(\"cuda\" if torch.cuda.is_available() else \"cpu\")\n",
    "device"
   ]
  },
  {
   "cell_type": "code",
   "execution_count": 3,
   "metadata": {},
   "outputs": [
    {
     "output_type": "execute_result",
     "data": {
      "text/plain": [
       "['down', 'none', 'up']"
      ]
     },
     "metadata": {},
     "execution_count": 3
    }
   ],
   "source": [
    "classes = ['down', 'none', 'up']\n",
    "classes"
   ]
  },
  {
   "cell_type": "code",
   "execution_count": 4,
   "metadata": {},
   "outputs": [
    {
     "output_type": "execute_result",
     "data": {
      "text/plain": [
       "Sequential(\n",
       "  (0): Conv2d(3, 32, kernel_size=(3, 3), stride=(1, 1), padding=(1, 1))\n",
       "  (1): ReLU()\n",
       "  (2): Conv2d(32, 32, kernel_size=(3, 3), stride=(2, 2), padding=(1, 1))\n",
       "  (3): ReLU()\n",
       "  (4): Conv2d(32, 64, kernel_size=(3, 3), stride=(2, 2), padding=(1, 1))\n",
       "  (5): ReLU()\n",
       "  (6): Conv2d(64, 128, kernel_size=(3, 3), stride=(2, 2), padding=(1, 1))\n",
       "  (7): ReLU()\n",
       "  (8): Flatten(start_dim=1, end_dim=-1)\n",
       "  (9): Linear(in_features=7168, out_features=3, bias=True)\n",
       ")"
      ]
     },
     "metadata": {},
     "execution_count": 4
    }
   ],
   "source": [
    "model_labeling = nn.Sequential(*[\n",
    "    nn.Conv2d(in_channels=3, out_channels=32, kernel_size=3, padding = 1, stride = 1),\n",
    "    nn.ReLU(),\n",
    "    nn.Conv2d(in_channels=32, out_channels=32, kernel_size=3, padding = 1, stride = 2),\n",
    "    nn.ReLU(),\n",
    "    nn.Conv2d(in_channels=32, out_channels=64, kernel_size=3, padding = 1, stride = 2),\n",
    "    nn.ReLU(),\n",
    "    nn.Conv2d(in_channels=64, out_channels=128, kernel_size=3, padding = 1, stride = 2),\n",
    "    nn.ReLU(),\n",
    "    nn.Flatten(),\n",
    "    nn.Linear(7168, 3)\n",
    "])\n",
    "model_labeling.load_state_dict(torch.load(\"ModeloCustomEtiquetadoBotones_BIEN.pth\"))\n",
    "model_labeling.eval()"
   ]
  },
  {
   "cell_type": "code",
   "execution_count": 5,
   "metadata": {},
   "outputs": [],
   "source": [
    "class VideoFrames(torch.utils.data.Dataset):\n",
    "    \"\"\"\n",
    "    Dataset que carga un vídeo y extrae los frames\n",
    "    \"\"\"\n",
    "    def __init__(self, path, transform = None):\n",
    "        \"\"\"\n",
    "        path --> Path del que cargar el vídeo\n",
    "        \"\"\"\n",
    "        super(VideoFrames, self).__init__()\n",
    "        \n",
    "        self.path = path\n",
    "        # self.images_path = glob.glob(f\"{path}/*.jpg\")  \n",
    "        self.frames = self.extract_frames(self.path)\n",
    "        # self.images = np.array([np.array(Image.open(image)) for image in self.images_path])\n",
    "        self.transform = transform\n",
    "\n",
    "    def __len__(self):\n",
    "        return len(self.frames)\n",
    "\n",
    "    def __getitem__(self, idx):\n",
    "        images = self.frames[idx]\n",
    "        if self.transform:\n",
    "            images = self.transform(images)\n",
    "        return images\n",
    "\n",
    "    def extract_frames(self, path_to_video):    \n",
    "        \"\"\"Coge un vídeo y extrae todos sus frames\"\"\"\n",
    "        frames = []\n",
    "        vidcap = cv2.VideoCapture(path_to_video)\n",
    "        success,image = vidcap.read()\n",
    "        count = 0\n",
    "        while success:\n",
    "            #Detallito porque OpenCV las carga como BGR y las queremos en RGB por consistencia\n",
    "            image = cv2.cvtColor(image, cv2.COLOR_BGR2RGB) \n",
    "            frames.append(image)\n",
    "            success,image = vidcap.read()\n",
    "            count += 1\n",
    "        print(f\"Extracted {count} frames!\")\n",
    "        return np.array(frames)"
   ]
  },
  {
   "cell_type": "code",
   "execution_count": 6,
   "metadata": {},
   "outputs": [],
   "source": [
    "def label(model, imageloader):\n",
    "    \"\"\"\n",
    "    Usamos el modelo dado para etiquetar las imágenes. \n",
    "    Hay que pasarlas como un dataloder directamente.\n",
    "    Devuelve una lista con las etiquetas correspondientes\n",
    "\n",
    "    Args:\n",
    "    model -> Modelo de Pytorch\n",
    "    imageloader -> DataLoader con las imágenes que queremos etiquetar\n",
    "\n",
    "    Return:\n",
    "    Devuelve una lista con las etiquetas correspondientes\n",
    "    \"\"\"\n",
    "    labels = np.array([])\n",
    "    for X in imageloader:\n",
    "        X = X.to(device)\n",
    "        with torch.no_grad():\n",
    "            #Sacamos la predicción\n",
    "            pred = model(X)\n",
    "        #A la predicción hay que hacerle la SoftMax para sacar la etiqueta\n",
    "        labels_batch = torch.softmax(pred, axis = 1).argmax(axis = 1)\n",
    "        labels = np.concatenate((labels,labels_batch.cpu().numpy()), axis = 0)\n",
    "        labels_name = [classes[int(label)] for label in labels]\n",
    "    return labels_name"
   ]
  },
  {
   "cell_type": "code",
   "execution_count": 7,
   "metadata": {},
   "outputs": [],
   "source": [
    "mask = cv2.imread(\"Crops/Mask_Right_Bot.png\")\n",
    "mask = cv2.cvtColor(mask, cv2.COLOR_BGR2GRAY)\n",
    "mask = torch.Tensor(mask)\n",
    "mask = mask / mask.max()"
   ]
  },
  {
   "cell_type": "code",
   "execution_count": 8,
   "metadata": {},
   "outputs": [],
   "source": [
    "lambda_crop = torchvision.transforms.Lambda(lambda x: x[:,420:,183:235])\n",
    "lambda_mask = torchvision.transforms.Lambda(lambda x: x * mask)"
   ]
  },
  {
   "cell_type": "code",
   "execution_count": 9,
   "metadata": {},
   "outputs": [],
   "source": [
    "transform_label = torchvision.transforms.Compose([\n",
    "    torchvision.transforms.ToTensor(),\n",
    "    lambda_crop,\n",
    "    lambda_mask,\n",
    "])"
   ]
  },
  {
   "cell_type": "code",
   "execution_count": 10,
   "metadata": {},
   "outputs": [],
   "source": [
    "lambda_crop_game = torchvision.transforms.Lambda(lambda x: x[:,15:-20,265:])"
   ]
  },
  {
   "cell_type": "code",
   "execution_count": 11,
   "metadata": {},
   "outputs": [],
   "source": [
    "transform = torchvision.transforms.Compose([\n",
    "    torchvision.transforms.ToTensor(),\n",
    "    lambda_crop_game,\n",
    "    torchvision.transforms.Resize(224)\n",
    "])"
   ]
  },
  {
   "cell_type": "code",
   "execution_count": 13,
   "metadata": {},
   "outputs": [],
   "source": [
    "class VideoFramesTemporal(torch.utils.data.Dataset):\n",
    "    \"\"\"\n",
    "    La idea es que este dataset nos devuelva directamente las cosas en el formato apropiado para\n",
    "    poder usar el modelo con la LSTM. \n",
    "    \"\"\"\n",
    "    def __init__(self, path, model_labeling, lag = 3, transform_label = None, transform = None):\n",
    "        \"\"\"\n",
    "        Argumentos:\n",
    "        path -> Path del que cargar el vídeo\n",
    "        model_labeling -> Modelo utilizado para etiquetar los frames\n",
    "        transform_label -> Transformaciones utilizadas para etiquetar los frames\n",
    "        transform -> Transformaciones utilizadas sobre las imágenes finales\n",
    "        \"\"\"\n",
    "        super(VideoFramesTemporal, self).__init__()\n",
    "        \n",
    "        self.path = path\n",
    "\n",
    "        self.frames = self.extract_frames(self.path)\n",
    "        self.labels = self.get_labels(model_labeling, transform_label)\n",
    "        \n",
    "        self.lag = lag\n",
    "        self.transform = transform\n",
    "        self.transform_label = transform_label\n",
    "\n",
    "        self.data, self.temporal_labels = self.create_temporal_dataset_2()\n",
    "\n",
    "    def __len__(self):\n",
    "        return len(self.data)\n",
    "\n",
    "    def __getitem__(self, idx):\n",
    "        data = self.data[idx]\n",
    "        label = self.temporal_labels[idx]\n",
    "        # if self.transform:\n",
    "        #     data = self.transform(data)\n",
    "        return data, label\n",
    "\n",
    "    def extract_frames(self, path_to_video):    \n",
    "        \"\"\"Coge un vídeo y extrae todos sus frames\"\"\"\n",
    "        frames = []\n",
    "        vidcap = cv2.VideoCapture(path_to_video)\n",
    "        success,image = vidcap.read()\n",
    "        count = 0\n",
    "        while success:\n",
    "            #Detallito porque OpenCV las carga como BGR y las queremos en RGB por consistencia\n",
    "            image = cv2.cvtColor(image, cv2.COLOR_BGR2RGB) \n",
    "            frames.append(image)\n",
    "            success,image = vidcap.read()\n",
    "            count += 1\n",
    "        print(f\"Extracted {count} frames!\")\n",
    "        return np.array(frames)\n",
    "    \n",
    "    def get_labels(self, model_labeler, transform_label):\n",
    "        labels = np.array([])\n",
    "        # transform_label = self.transform_label\n",
    "        temp_dataloader_labeling = torch.utils.data.DataLoader(VideoFrames(self.path, transform = transform_label), batch_size = 16)\n",
    "\n",
    "        for X in temp_dataloader_labeling:\n",
    "            # X = X.to(device)\n",
    "\n",
    "            with torch.no_grad():\n",
    "                #Sacamos la predicción\n",
    "                pred = model_labeler(X)\n",
    "\n",
    "            #A la predicción hay que hacerle la SoftMax para sacar la etiqueta\n",
    "            labels_batch = torch.softmax(pred, axis = 1).argmax(axis = 1)\n",
    "            labels = np.concatenate((labels,labels_batch.cpu().numpy()), axis = 0)\n",
    "            labels_name = [classes[int(label)] for label in labels]\n",
    "        \n",
    "        return labels\n",
    "\n",
    "    def create_temporal_dataset(self):\n",
    "        \"\"\"\n",
    "        Cogemos un dataset de frames secuenciales, sus etiquetas asociadas y el lag que queremos utilizar.\n",
    "        Devolvemos el dataset de forma que cada ejemplo sean tres frames consecutivos y la etiqueta, la que\n",
    "        corresponde al siguiente frame.\n",
    "\n",
    "        Argumentos:\n",
    "        frames_dataset_list -> Dataset de PyTorch convertido a lista mediante list(dataset)\n",
    "        labels -> Lista con las etiquetas que corresponde a cada imagen\n",
    "        lag -> Cantidad de frames que queremos utilizar para cada prediccion\n",
    "\n",
    "        Return:\n",
    "        dataset -> Dataset formateado según (Ejemplos, Frames por ejemplo, Canales, Alto, Ancho)\n",
    "        labels_dataset -> Etiquetas asociadas al dataset\n",
    "        \"\"\"\n",
    "        frames_dataset = VideoFrames(self.path, transform = self.transform)\n",
    "        frames_dataset_list = list(frames_dataset)\n",
    "        labels = self.labels\n",
    "        lag = self.lag\n",
    "        labels_dataset = []\n",
    "        \n",
    "        for i, (_, __) in enumerate(zip(frames_dataset_list, frames_dataset_list[lag:])):\n",
    "            # print(i)\n",
    "            if i == 0:\n",
    "                dataset = torch.unsqueeze(torch.stack(frames_dataset_list[i:i+lag]),0)\n",
    "\n",
    "            else:\n",
    "                dataset = torch.vstack((dataset, torch.unsqueeze(torch.stack(frames_dataset_list[i:i+lag]), 0)))\n",
    "\n",
    "            labels_dataset.append(labels[i+lag])\n",
    "\n",
    "        return dataset, labels_dataset\n",
    "\n",
    "    def create_temporal_dataset_2(self):\n",
    "        \"\"\"\n",
    "        Cogemos un dataset de frames secuenciales, sus etiquetas asociadas y el lag que queremos utilizar.\n",
    "        Devolvemos el dataset de forma que cada ejemplo sean tres frames consecutivos y la etiqueta, la que\n",
    "        corresponde al siguiente frame.\n",
    "\n",
    "        Argumentos:\n",
    "        frames_dataset_list -> Dataset de PyTorch convertido a lista mediante list(dataset)\n",
    "        labels -> Lista con las etiquetas que corresponde a cada imagen\n",
    "        lag -> Cantidad de frames que queremos utilizar para cada prediccion\n",
    "\n",
    "        Return:\n",
    "        dataset -> Dataset formateado según (Ejemplos, Frames por ejemplo, Canales, Alto, Ancho)\n",
    "        labels_dataset -> Etiquetas asociadas al dataset\n",
    "        \"\"\"\n",
    "        frames_dataset = VideoFrames(self.path, transform = self.transform)\n",
    "        frames_dataset_list = list(frames_dataset)\n",
    "        labels = self.labels\n",
    "        lag = self.lag\n",
    "        labels_dataset = []\n",
    "        dataset = torch.empty(len(frames_dataset_list)-lag, lag, *frames_dataset_list[0].shape)\n",
    "        # print(dataset.shape)\n",
    "        # return\n",
    "        for i, (_, __) in enumerate(zip(frames_dataset_list, frames_dataset_list[lag:])):\n",
    "            \n",
    "            dataset[i] = torch.stack(frames_dataset_list[i:i+lag])\n",
    "\n",
    "            labels_dataset.append(int(labels[i+lag]))\n",
    "\n",
    "        return dataset, labels_dataset"
   ]
  },
  {
   "cell_type": "code",
   "execution_count": 15,
   "metadata": {},
   "outputs": [
    {
     "output_type": "stream",
     "name": "stdout",
     "text": [
      "Extracted 869 frames!\n",
      "Extracted 869 frames!\n",
      "Extracted 869 frames!\n",
      "Extracted 604 frames!\n",
      "Extracted 604 frames!\n",
      "Extracted 604 frames!\n"
     ]
    }
   ],
   "source": [
    "dataset_1 = VideoFramesTemporal(\"Crops/1-1.mp4\", model_labeling, 3, transform_label = transform_label, transform = transform)\n",
    "dataset_2 = VideoFramesTemporal(\"Crops/1-2.mp4\", model_labeling, 3, transform_label = transform_label, transform = transform)\n",
    "dataset_3 = VideoFramesTemporal(\"Crops/1-3.mp4\", model_labeling, 3, transform_label = transform_label, transform = transform)\n",
    "dataset_4 = VideoFramesTemporal(\"Crops/5-22.mp4\", model_labeling, 3, transform_label = transform_label, transform = transform)\n",
    "dataset_5 = VideoFramesTemporal(\"Crops/BotonRojo.mp4\", model_labeling, 3, transform_label = transform_label, transform = transform)"
   ]
  },
  {
   "cell_type": "code",
   "execution_count": 33,
   "metadata": {},
   "outputs": [],
   "source": [
    "prueba_concats = torch.utils.data.ConcatDataset((dataset_2, dataset_3, dataset_4, dataset_5))"
   ]
  },
  {
   "cell_type": "code",
   "execution_count": 34,
   "metadata": {},
   "outputs": [
    {
     "output_type": "execute_result",
     "data": {
      "text/plain": [
       "(3999, 935, 3114)"
      ]
     },
     "metadata": {},
     "execution_count": 34
    }
   ],
   "source": [
    "len(dataset), len(dataset_2), len(prueba_concats)"
   ]
  },
  {
   "cell_type": "code",
   "execution_count": 35,
   "metadata": {},
   "outputs": [],
   "source": [
    "dataset = prueba_concats"
   ]
  },
  {
   "cell_type": "code",
   "execution_count": 36,
   "metadata": {},
   "outputs": [
    {
     "output_type": "execute_result",
     "data": {
      "text/plain": [
       "(2179, 935)"
      ]
     },
     "metadata": {},
     "execution_count": 36
    }
   ],
   "source": [
    "train_split = 0.7\n",
    "train_length = int(len(dataset)*train_split)\n",
    "test_length = int(len(dataset)) - int(len(dataset)*train_split)\n",
    "\n",
    "train, test = torch.utils.data.random_split(dataset, [train_length, test_length], generator = torch.Generator().manual_seed(42))\n",
    "len(train), len(test)"
   ]
  },
  {
   "cell_type": "code",
   "execution_count": 37,
   "metadata": {},
   "outputs": [],
   "source": [
    "BATCH_SIZE = 12\n",
    "trainloader = torch.utils.data.DataLoader(train, batch_size = BATCH_SIZE, shuffle = True, drop_last = True)\n",
    "testloader = torch.utils.data.DataLoader(test, batch_size = BATCH_SIZE, shuffle = True, drop_last = True)"
   ]
  },
  {
   "source": [
    "# Modelo"
   ],
   "cell_type": "markdown",
   "metadata": {}
  },
  {
   "cell_type": "code",
   "execution_count": 22,
   "metadata": {},
   "outputs": [],
   "source": [
    "def train_fn(model, optimizer, loss_fn, epochs, trainloader, testloader):    \n",
    "    \"\"\"\n",
    "    Bucle de entrenamiento completo.\n",
    "\n",
    "    Argumentos:\n",
    "    model -> Modelo a entrenar\n",
    "    optimizer -> Optimizador a utilizar\n",
    "    loss_fn -> Función de pérdida a utilizar\n",
    "    epochs -> Cantidad de épocas de entrenamiento\n",
    "    trainloader -> Objeto DataLoader de entrenamiento\n",
    "    testloader -> Objeto DataLoader de test\n",
    "\n",
    "    Returns:\n",
    "    losses -> Coste durante el entrenamiento\n",
    "    accuracies -> Precisión durante el entrenamiento\n",
    "    losses_test -> Coste durante el test\n",
    "    accuracies_test -> Precisión durante el test\n",
    "    \"\"\"\n",
    "    EPOCHS = epochs\n",
    "\n",
    "    losses = []\n",
    "    losses_test = []\n",
    "    accuracies = []\n",
    "    accuracies_test = []\n",
    "\n",
    "    for epoch in range(EPOCHS):\n",
    "\n",
    "        loss_epoch = 0\n",
    "        loss_epoch_test = 0\n",
    "        accuracy_epoch = []\n",
    "        accuracy_epoch_test = []\n",
    "\n",
    "        for X, Y in trainloader:\n",
    "            X, Y = X.to(device), Y.to(device)\n",
    "\n",
    "            optimizer.zero_grad()\n",
    "\n",
    "            pred = model(X)\n",
    "            loss = loss_fn(pred, Y)\n",
    "\n",
    "            loss.backward()\n",
    "            optimizer.step()\n",
    "\n",
    "            loss_epoch += loss\n",
    "            accuracy_epoch.append(accuracy_score(Y, pred).item()) #Con item nos metemos el número sin tensor ni nada\n",
    "        \n",
    "        losses.append(loss_epoch)\n",
    "        accuracies.append(np.mean(accuracy_epoch))\n",
    "        \n",
    "        for X_test, Y_test in testloader:\n",
    "            X_test, Y_test = X_test.to(device), Y_test.to(device)\n",
    "\n",
    "            with torch.no_grad():\n",
    "                pred_test = model(X_test)\n",
    "                loss_test = loss_fn(pred_test, Y_test)\n",
    "\n",
    "            loss_epoch_test += loss_test\n",
    "            accuracy_epoch_test.append(accuracy_score(Y_test, pred_test).item())\n",
    "\n",
    "        losses_test.append(loss_epoch_test)\n",
    "        accuracies_test.append(np.mean(accuracy_epoch_test))\n",
    "\n",
    "        print(f\"Época {epoch+1} --> Train: (BCE) {losses[-1]:.5f} (Accuracy): {accuracies[-1]:.5f} | Test: (BCE) {losses_test[-1]:.5f} (Accuracy): {accuracies_test[-1]:.5f}\")\n",
    "    return losses, accuracies, losses_test, accuracies_test"
   ]
  },
  {
   "cell_type": "code",
   "execution_count": 23,
   "metadata": {},
   "outputs": [],
   "source": [
    "class TemporalModel(nn.Module):\n",
    "    def __init__(self):\n",
    "        super(TemporalModel, self).__init__()\n",
    "        self.convolutions = nn.Sequential(*[\n",
    "        nn.Conv2d(in_channels=3, out_channels=32, kernel_size=3, padding = 1, stride = 1),\n",
    "        nn.ReLU(),\n",
    "        nn.Conv2d(in_channels=32, out_channels=32, kernel_size=3, padding = 1, stride = 1),\n",
    "        nn.ReLU(),\n",
    "        nn.MaxPool2d(4),\n",
    "        nn.Conv2d(in_channels=32, out_channels=64, kernel_size=3, padding = 1, stride = 1),\n",
    "        nn.ReLU(),\n",
    "        nn.MaxPool2d(4),\n",
    "        nn.Flatten(),\n",
    "        nn.Linear(64*14*18, 100),\n",
    "        nn.ReLU(),\n",
    "    ])\n",
    "        self.hidden_size = 50\n",
    "        self.lstm = nn.LSTM(input_size = 100, hidden_size = self.hidden_size, num_layers = 1, batch_first = True, dropout=0.5)\n",
    "        #Definimos el estado oculto\n",
    "        self.hidden_cell = (torch.zeros(1,12,self.hidden_size).to(device),\n",
    "                            torch.zeros(1,12,self.hidden_size).to(device))\n",
    "        \n",
    "        self.final_linear = nn.Linear(self.hidden_size, 3)\n",
    "\n",
    "    def forward(self, x):      \n",
    "        pred = torch.empty(x.shape[0],3,100).to(device)\n",
    "\n",
    "        for i in range(x.shape[1]):\n",
    "            pred[:,i,:] = self.convolutions(x[:,i,:,:,:])\n",
    "\n",
    "        pred, self.hidden_cell = self.lstm(pred, self.hidden_cell)\n",
    "\n",
    "\n",
    "        #Tenemos que hacerle detach al hidden_cell porque eso no se ajusta\n",
    "        self.hidden_cell = tuple(a.detach() for a in self.hidden_cell)\n",
    "\n",
    "        # Nos quedamos solamente con el elemento que corresponde al último\n",
    "        # instante temporal\n",
    "        pred = self.final_linear(pred[:,-1,:])\n",
    "\n",
    "        return pred"
   ]
  },
  {
   "cell_type": "code",
   "execution_count": 25,
   "metadata": {},
   "outputs": [],
   "source": [
    "def accuracy_score(y_true, y_pred):\n",
    "    y_pred = torch.softmax(y_pred, axis = 1).argmax(axis = 1)\n",
    "    return torch.where(y_true == y_pred, 1, 0).sum() / len(y_pred)"
   ]
  },
  {
   "cell_type": "code",
   "execution_count": 51,
   "metadata": {},
   "outputs": [],
   "source": [
    "model_temporal = TemporalModel()\n",
    "model_temporal.to(device)\n",
    "optimizer = torch.optim.Adam(model_temporal.parameters())\n",
    "loss_fn = nn.CrossEntropyLoss()"
   ]
  },
  {
   "cell_type": "code",
   "execution_count": 52,
   "metadata": {},
   "outputs": [
    {
     "output_type": "stream",
     "name": "stdout",
     "text": [
      "Época 1 --> Train: (BCE) 140.03105 (Accuracy): 0.59945 | Test: (BCE) 53.79993 (Accuracy): 0.60931\n",
      "Época 2 --> Train: (BCE) 124.91840 (Accuracy): 0.66344 | Test: (BCE) 44.26486 (Accuracy): 0.79004\n",
      "Época 3 --> Train: (BCE) 98.24722 (Accuracy): 0.79236 | Test: (BCE) 39.40427 (Accuracy): 0.80303\n",
      "Época 4 --> Train: (BCE) 89.85541 (Accuracy): 0.80617 | Test: (BCE) 37.30617 (Accuracy): 0.81602\n",
      "Época 5 --> Train: (BCE) 86.24546 (Accuracy): 0.80985 | Test: (BCE) 35.83331 (Accuracy): 0.82143\n",
      "Época 6 --> Train: (BCE) 87.83156 (Accuracy): 0.80755 | Test: (BCE) 37.79688 (Accuracy): 0.80952\n",
      "Época 7 --> Train: (BCE) 81.93139 (Accuracy): 0.81031 | Test: (BCE) 35.64917 (Accuracy): 0.80628\n",
      "Época 8 --> Train: (BCE) 77.27853 (Accuracy): 0.82320 | Test: (BCE) 33.99969 (Accuracy): 0.81602\n",
      "Época 9 --> Train: (BCE) 73.40175 (Accuracy): 0.83241 | Test: (BCE) 32.48549 (Accuracy): 0.83766\n",
      "Época 10 --> Train: (BCE) 67.77424 (Accuracy): 0.85267 | Test: (BCE) 31.85879 (Accuracy): 0.82900\n",
      "Época 11 --> Train: (BCE) 67.22221 (Accuracy): 0.84346 | Test: (BCE) 29.69488 (Accuracy): 0.84848\n",
      "Época 12 --> Train: (BCE) 56.00265 (Accuracy): 0.88398 | Test: (BCE) 28.84111 (Accuracy): 0.86797\n",
      "Época 13 --> Train: (BCE) 41.33308 (Accuracy): 0.92680 | Test: (BCE) 21.20447 (Accuracy): 0.90368\n",
      "Época 14 --> Train: (BCE) 31.73363 (Accuracy): 0.94245 | Test: (BCE) 21.15997 (Accuracy): 0.90801\n",
      "Época 15 --> Train: (BCE) 27.77251 (Accuracy): 0.94613 | Test: (BCE) 18.51936 (Accuracy): 0.91342\n",
      "Época 16 --> Train: (BCE) 22.78633 (Accuracy): 0.95396 | Test: (BCE) 15.34250 (Accuracy): 0.93290\n",
      "Época 17 --> Train: (BCE) 16.21361 (Accuracy): 0.96731 | Test: (BCE) 16.65230 (Accuracy): 0.92424\n",
      "Época 18 --> Train: (BCE) 16.36633 (Accuracy): 0.96731 | Test: (BCE) 15.45514 (Accuracy): 0.93182\n",
      "Época 19 --> Train: (BCE) 12.16091 (Accuracy): 0.97560 | Test: (BCE) 15.34685 (Accuracy): 0.93615\n",
      "Época 20 --> Train: (BCE) 12.35275 (Accuracy): 0.97238 | Test: (BCE) 14.98706 (Accuracy): 0.93723\n",
      "Época 21 --> Train: (BCE) 10.58007 (Accuracy): 0.98389 | Test: (BCE) 12.45405 (Accuracy): 0.94697\n",
      "Época 22 --> Train: (BCE) 8.55816 (Accuracy): 0.98573 | Test: (BCE) 17.50268 (Accuracy): 0.93506\n",
      "Época 23 --> Train: (BCE) 7.51198 (Accuracy): 0.98987 | Test: (BCE) 17.10457 (Accuracy): 0.93939\n",
      "Época 24 --> Train: (BCE) 6.42010 (Accuracy): 0.98987 | Test: (BCE) 14.84330 (Accuracy): 0.94481\n",
      "Época 25 --> Train: (BCE) 5.23892 (Accuracy): 0.99125 | Test: (BCE) 21.74828 (Accuracy): 0.92641\n"
     ]
    }
   ],
   "source": [
    "a, b, c, d = train_fn(model_temporal, optimizer, loss_fn, 25, trainloader, testloader)"
   ]
  },
  {
   "cell_type": "code",
   "execution_count": 55,
   "metadata": {},
   "outputs": [
    {
     "output_type": "display_data",
     "data": {
      "text/plain": "<Figure size 1152x432 with 2 Axes>",
      "image/svg+xml": "<?xml version=\"1.0\" encoding=\"utf-8\" standalone=\"no\"?>\r\n<!DOCTYPE svg PUBLIC \"-//W3C//DTD SVG 1.1//EN\"\r\n  \"http://www.w3.org/Graphics/SVG/1.1/DTD/svg11.dtd\">\r\n<!-- Created with matplotlib (https://matplotlib.org/) -->\r\n<svg height=\"400.438125pt\" version=\"1.1\" viewBox=\"0 0 936.57562 400.438125\" width=\"936.57562pt\" xmlns=\"http://www.w3.org/2000/svg\" xmlns:xlink=\"http://www.w3.org/1999/xlink\">\r\n <defs>\r\n  <style type=\"text/css\">\r\n*{stroke-linecap:butt;stroke-linejoin:round;}\r\n  </style>\r\n </defs>\r\n <g id=\"figure_1\">\r\n  <g id=\"patch_1\">\r\n   <path d=\"M 0 400.438125 \r\nL 936.57562 400.438125 \r\nL 936.57562 0 \r\nL 0 0 \r\nz\r\n\" style=\"fill:none;\"/>\r\n  </g>\r\n  <g id=\"axes_1\">\r\n   <g id=\"patch_2\">\r\n    <path d=\"M 33.2875 376.56 \r\nL 439.105682 376.56 \r\nL 439.105682 50.4 \r\nL 33.2875 50.4 \r\nz\r\n\" style=\"fill:#ffffff;\"/>\r\n   </g>\r\n   <g id=\"matplotlib.axis_1\">\r\n    <g id=\"xtick_1\">\r\n     <g id=\"line2d_1\">\r\n      <defs>\r\n       <path d=\"M 0 0 \r\nL 0 3.5 \r\n\" id=\"m2d3e1c0a42\" style=\"stroke:#000000;stroke-width:0.8;\"/>\r\n      </defs>\r\n      <g>\r\n       <use style=\"stroke:#000000;stroke-width:0.8;\" x=\"51.733781\" xlink:href=\"#m2d3e1c0a42\" y=\"376.56\"/>\r\n      </g>\r\n     </g>\r\n     <g id=\"text_1\">\r\n      <!-- 0 -->\r\n      <defs>\r\n       <path d=\"M 31.78125 66.40625 \r\nQ 24.171875 66.40625 20.328125 58.90625 \r\nQ 16.5 51.421875 16.5 36.375 \r\nQ 16.5 21.390625 20.328125 13.890625 \r\nQ 24.171875 6.390625 31.78125 6.390625 \r\nQ 39.453125 6.390625 43.28125 13.890625 \r\nQ 47.125 21.390625 47.125 36.375 \r\nQ 47.125 51.421875 43.28125 58.90625 \r\nQ 39.453125 66.40625 31.78125 66.40625 \r\nz\r\nM 31.78125 74.21875 \r\nQ 44.046875 74.21875 50.515625 64.515625 \r\nQ 56.984375 54.828125 56.984375 36.375 \r\nQ 56.984375 17.96875 50.515625 8.265625 \r\nQ 44.046875 -1.421875 31.78125 -1.421875 \r\nQ 19.53125 -1.421875 13.0625 8.265625 \r\nQ 6.59375 17.96875 6.59375 36.375 \r\nQ 6.59375 54.828125 13.0625 64.515625 \r\nQ 19.53125 74.21875 31.78125 74.21875 \r\nz\r\n\" id=\"DejaVuSans-48\"/>\r\n      </defs>\r\n      <g transform=\"translate(48.552531 391.158437)scale(0.1 -0.1)\">\r\n       <use xlink:href=\"#DejaVuSans-48\"/>\r\n      </g>\r\n     </g>\r\n    </g>\r\n    <g id=\"xtick_2\">\r\n     <g id=\"line2d_2\">\r\n      <g>\r\n       <use style=\"stroke:#000000;stroke-width:0.8;\" x=\"128.593285\" xlink:href=\"#m2d3e1c0a42\" y=\"376.56\"/>\r\n      </g>\r\n     </g>\r\n     <g id=\"text_2\">\r\n      <!-- 5 -->\r\n      <defs>\r\n       <path d=\"M 10.796875 72.90625 \r\nL 49.515625 72.90625 \r\nL 49.515625 64.59375 \r\nL 19.828125 64.59375 \r\nL 19.828125 46.734375 \r\nQ 21.96875 47.46875 24.109375 47.828125 \r\nQ 26.265625 48.1875 28.421875 48.1875 \r\nQ 40.625 48.1875 47.75 41.5 \r\nQ 54.890625 34.8125 54.890625 23.390625 \r\nQ 54.890625 11.625 47.5625 5.09375 \r\nQ 40.234375 -1.421875 26.90625 -1.421875 \r\nQ 22.3125 -1.421875 17.546875 -0.640625 \r\nQ 12.796875 0.140625 7.71875 1.703125 \r\nL 7.71875 11.625 \r\nQ 12.109375 9.234375 16.796875 8.0625 \r\nQ 21.484375 6.890625 26.703125 6.890625 \r\nQ 35.15625 6.890625 40.078125 11.328125 \r\nQ 45.015625 15.765625 45.015625 23.390625 \r\nQ 45.015625 31 40.078125 35.4375 \r\nQ 35.15625 39.890625 26.703125 39.890625 \r\nQ 22.75 39.890625 18.8125 39.015625 \r\nQ 14.890625 38.140625 10.796875 36.28125 \r\nz\r\n\" id=\"DejaVuSans-53\"/>\r\n      </defs>\r\n      <g transform=\"translate(125.412035 391.158437)scale(0.1 -0.1)\">\r\n       <use xlink:href=\"#DejaVuSans-53\"/>\r\n      </g>\r\n     </g>\r\n    </g>\r\n    <g id=\"xtick_3\">\r\n     <g id=\"line2d_3\">\r\n      <g>\r\n       <use style=\"stroke:#000000;stroke-width:0.8;\" x=\"205.452789\" xlink:href=\"#m2d3e1c0a42\" y=\"376.56\"/>\r\n      </g>\r\n     </g>\r\n     <g id=\"text_3\">\r\n      <!-- 10 -->\r\n      <defs>\r\n       <path d=\"M 12.40625 8.296875 \r\nL 28.515625 8.296875 \r\nL 28.515625 63.921875 \r\nL 10.984375 60.40625 \r\nL 10.984375 69.390625 \r\nL 28.421875 72.90625 \r\nL 38.28125 72.90625 \r\nL 38.28125 8.296875 \r\nL 54.390625 8.296875 \r\nL 54.390625 0 \r\nL 12.40625 0 \r\nz\r\n\" id=\"DejaVuSans-49\"/>\r\n      </defs>\r\n      <g transform=\"translate(199.090289 391.158437)scale(0.1 -0.1)\">\r\n       <use xlink:href=\"#DejaVuSans-49\"/>\r\n       <use x=\"63.623047\" xlink:href=\"#DejaVuSans-48\"/>\r\n      </g>\r\n     </g>\r\n    </g>\r\n    <g id=\"xtick_4\">\r\n     <g id=\"line2d_4\">\r\n      <g>\r\n       <use style=\"stroke:#000000;stroke-width:0.8;\" x=\"282.312293\" xlink:href=\"#m2d3e1c0a42\" y=\"376.56\"/>\r\n      </g>\r\n     </g>\r\n     <g id=\"text_4\">\r\n      <!-- 15 -->\r\n      <g transform=\"translate(275.949793 391.158437)scale(0.1 -0.1)\">\r\n       <use xlink:href=\"#DejaVuSans-49\"/>\r\n       <use x=\"63.623047\" xlink:href=\"#DejaVuSans-53\"/>\r\n      </g>\r\n     </g>\r\n    </g>\r\n    <g id=\"xtick_5\">\r\n     <g id=\"line2d_5\">\r\n      <g>\r\n       <use style=\"stroke:#000000;stroke-width:0.8;\" x=\"359.171798\" xlink:href=\"#m2d3e1c0a42\" y=\"376.56\"/>\r\n      </g>\r\n     </g>\r\n     <g id=\"text_5\">\r\n      <!-- 20 -->\r\n      <defs>\r\n       <path d=\"M 19.1875 8.296875 \r\nL 53.609375 8.296875 \r\nL 53.609375 0 \r\nL 7.328125 0 \r\nL 7.328125 8.296875 \r\nQ 12.9375 14.109375 22.625 23.890625 \r\nQ 32.328125 33.6875 34.8125 36.53125 \r\nQ 39.546875 41.84375 41.421875 45.53125 \r\nQ 43.3125 49.21875 43.3125 52.78125 \r\nQ 43.3125 58.59375 39.234375 62.25 \r\nQ 35.15625 65.921875 28.609375 65.921875 \r\nQ 23.96875 65.921875 18.8125 64.3125 \r\nQ 13.671875 62.703125 7.8125 59.421875 \r\nL 7.8125 69.390625 \r\nQ 13.765625 71.78125 18.9375 73 \r\nQ 24.125 74.21875 28.421875 74.21875 \r\nQ 39.75 74.21875 46.484375 68.546875 \r\nQ 53.21875 62.890625 53.21875 53.421875 \r\nQ 53.21875 48.921875 51.53125 44.890625 \r\nQ 49.859375 40.875 45.40625 35.40625 \r\nQ 44.1875 33.984375 37.640625 27.21875 \r\nQ 31.109375 20.453125 19.1875 8.296875 \r\nz\r\n\" id=\"DejaVuSans-50\"/>\r\n      </defs>\r\n      <g transform=\"translate(352.809298 391.158437)scale(0.1 -0.1)\">\r\n       <use xlink:href=\"#DejaVuSans-50\"/>\r\n       <use x=\"63.623047\" xlink:href=\"#DejaVuSans-48\"/>\r\n      </g>\r\n     </g>\r\n    </g>\r\n    <g id=\"xtick_6\">\r\n     <g id=\"line2d_6\">\r\n      <g>\r\n       <use style=\"stroke:#000000;stroke-width:0.8;\" x=\"436.031302\" xlink:href=\"#m2d3e1c0a42\" y=\"376.56\"/>\r\n      </g>\r\n     </g>\r\n     <g id=\"text_6\">\r\n      <!-- 25 -->\r\n      <g transform=\"translate(429.668802 391.158437)scale(0.1 -0.1)\">\r\n       <use xlink:href=\"#DejaVuSans-50\"/>\r\n       <use x=\"63.623047\" xlink:href=\"#DejaVuSans-53\"/>\r\n      </g>\r\n     </g>\r\n    </g>\r\n   </g>\r\n   <g id=\"matplotlib.axis_2\">\r\n    <g id=\"ytick_1\">\r\n     <g id=\"line2d_7\">\r\n      <defs>\r\n       <path d=\"M 0 0 \r\nL -3.5 0 \r\n\" id=\"mecbde6c0cf\" style=\"stroke:#000000;stroke-width:0.8;\"/>\r\n      </defs>\r\n      <g>\r\n       <use style=\"stroke:#000000;stroke-width:0.8;\" x=\"33.2875\" xlink:href=\"#mecbde6c0cf\" y=\"373.258867\"/>\r\n      </g>\r\n     </g>\r\n     <g id=\"text_7\">\r\n      <!-- 0 -->\r\n      <g transform=\"translate(19.925 377.058086)scale(0.1 -0.1)\">\r\n       <use xlink:href=\"#DejaVuSans-48\"/>\r\n      </g>\r\n     </g>\r\n    </g>\r\n    <g id=\"ytick_2\">\r\n     <g id=\"line2d_8\">\r\n      <g>\r\n       <use style=\"stroke:#000000;stroke-width:0.8;\" x=\"33.2875\" xlink:href=\"#mecbde6c0cf\" y=\"329.263852\"/>\r\n      </g>\r\n     </g>\r\n     <g id=\"text_8\">\r\n      <!-- 20 -->\r\n      <g transform=\"translate(13.5625 333.063071)scale(0.1 -0.1)\">\r\n       <use xlink:href=\"#DejaVuSans-50\"/>\r\n       <use x=\"63.623047\" xlink:href=\"#DejaVuSans-48\"/>\r\n      </g>\r\n     </g>\r\n    </g>\r\n    <g id=\"ytick_3\">\r\n     <g id=\"line2d_9\">\r\n      <g>\r\n       <use style=\"stroke:#000000;stroke-width:0.8;\" x=\"33.2875\" xlink:href=\"#mecbde6c0cf\" y=\"285.268837\"/>\r\n      </g>\r\n     </g>\r\n     <g id=\"text_9\">\r\n      <!-- 40 -->\r\n      <defs>\r\n       <path d=\"M 37.796875 64.3125 \r\nL 12.890625 25.390625 \r\nL 37.796875 25.390625 \r\nz\r\nM 35.203125 72.90625 \r\nL 47.609375 72.90625 \r\nL 47.609375 25.390625 \r\nL 58.015625 25.390625 \r\nL 58.015625 17.1875 \r\nL 47.609375 17.1875 \r\nL 47.609375 0 \r\nL 37.796875 0 \r\nL 37.796875 17.1875 \r\nL 4.890625 17.1875 \r\nL 4.890625 26.703125 \r\nz\r\n\" id=\"DejaVuSans-52\"/>\r\n      </defs>\r\n      <g transform=\"translate(13.5625 289.068056)scale(0.1 -0.1)\">\r\n       <use xlink:href=\"#DejaVuSans-52\"/>\r\n       <use x=\"63.623047\" xlink:href=\"#DejaVuSans-48\"/>\r\n      </g>\r\n     </g>\r\n    </g>\r\n    <g id=\"ytick_4\">\r\n     <g id=\"line2d_10\">\r\n      <g>\r\n       <use style=\"stroke:#000000;stroke-width:0.8;\" x=\"33.2875\" xlink:href=\"#mecbde6c0cf\" y=\"241.273822\"/>\r\n      </g>\r\n     </g>\r\n     <g id=\"text_10\">\r\n      <!-- 60 -->\r\n      <defs>\r\n       <path d=\"M 33.015625 40.375 \r\nQ 26.375 40.375 22.484375 35.828125 \r\nQ 18.609375 31.296875 18.609375 23.390625 \r\nQ 18.609375 15.53125 22.484375 10.953125 \r\nQ 26.375 6.390625 33.015625 6.390625 \r\nQ 39.65625 6.390625 43.53125 10.953125 \r\nQ 47.40625 15.53125 47.40625 23.390625 \r\nQ 47.40625 31.296875 43.53125 35.828125 \r\nQ 39.65625 40.375 33.015625 40.375 \r\nz\r\nM 52.59375 71.296875 \r\nL 52.59375 62.3125 \r\nQ 48.875 64.0625 45.09375 64.984375 \r\nQ 41.3125 65.921875 37.59375 65.921875 \r\nQ 27.828125 65.921875 22.671875 59.328125 \r\nQ 17.53125 52.734375 16.796875 39.40625 \r\nQ 19.671875 43.65625 24.015625 45.921875 \r\nQ 28.375 48.1875 33.59375 48.1875 \r\nQ 44.578125 48.1875 50.953125 41.515625 \r\nQ 57.328125 34.859375 57.328125 23.390625 \r\nQ 57.328125 12.15625 50.6875 5.359375 \r\nQ 44.046875 -1.421875 33.015625 -1.421875 \r\nQ 20.359375 -1.421875 13.671875 8.265625 \r\nQ 6.984375 17.96875 6.984375 36.375 \r\nQ 6.984375 53.65625 15.1875 63.9375 \r\nQ 23.390625 74.21875 37.203125 74.21875 \r\nQ 40.921875 74.21875 44.703125 73.484375 \r\nQ 48.484375 72.75 52.59375 71.296875 \r\nz\r\n\" id=\"DejaVuSans-54\"/>\r\n      </defs>\r\n      <g transform=\"translate(13.5625 245.07304)scale(0.1 -0.1)\">\r\n       <use xlink:href=\"#DejaVuSans-54\"/>\r\n       <use x=\"63.623047\" xlink:href=\"#DejaVuSans-48\"/>\r\n      </g>\r\n     </g>\r\n    </g>\r\n    <g id=\"ytick_5\">\r\n     <g id=\"line2d_11\">\r\n      <g>\r\n       <use style=\"stroke:#000000;stroke-width:0.8;\" x=\"33.2875\" xlink:href=\"#mecbde6c0cf\" y=\"197.278806\"/>\r\n      </g>\r\n     </g>\r\n     <g id=\"text_11\">\r\n      <!-- 80 -->\r\n      <defs>\r\n       <path d=\"M 31.78125 34.625 \r\nQ 24.75 34.625 20.71875 30.859375 \r\nQ 16.703125 27.09375 16.703125 20.515625 \r\nQ 16.703125 13.921875 20.71875 10.15625 \r\nQ 24.75 6.390625 31.78125 6.390625 \r\nQ 38.8125 6.390625 42.859375 10.171875 \r\nQ 46.921875 13.96875 46.921875 20.515625 \r\nQ 46.921875 27.09375 42.890625 30.859375 \r\nQ 38.875 34.625 31.78125 34.625 \r\nz\r\nM 21.921875 38.8125 \r\nQ 15.578125 40.375 12.03125 44.71875 \r\nQ 8.5 49.078125 8.5 55.328125 \r\nQ 8.5 64.0625 14.71875 69.140625 \r\nQ 20.953125 74.21875 31.78125 74.21875 \r\nQ 42.671875 74.21875 48.875 69.140625 \r\nQ 55.078125 64.0625 55.078125 55.328125 \r\nQ 55.078125 49.078125 51.53125 44.71875 \r\nQ 48 40.375 41.703125 38.8125 \r\nQ 48.828125 37.15625 52.796875 32.3125 \r\nQ 56.78125 27.484375 56.78125 20.515625 \r\nQ 56.78125 9.90625 50.3125 4.234375 \r\nQ 43.84375 -1.421875 31.78125 -1.421875 \r\nQ 19.734375 -1.421875 13.25 4.234375 \r\nQ 6.78125 9.90625 6.78125 20.515625 \r\nQ 6.78125 27.484375 10.78125 32.3125 \r\nQ 14.796875 37.15625 21.921875 38.8125 \r\nz\r\nM 18.3125 54.390625 \r\nQ 18.3125 48.734375 21.84375 45.5625 \r\nQ 25.390625 42.390625 31.78125 42.390625 \r\nQ 38.140625 42.390625 41.71875 45.5625 \r\nQ 45.3125 48.734375 45.3125 54.390625 \r\nQ 45.3125 60.0625 41.71875 63.234375 \r\nQ 38.140625 66.40625 31.78125 66.40625 \r\nQ 25.390625 66.40625 21.84375 63.234375 \r\nQ 18.3125 60.0625 18.3125 54.390625 \r\nz\r\n\" id=\"DejaVuSans-56\"/>\r\n      </defs>\r\n      <g transform=\"translate(13.5625 201.078025)scale(0.1 -0.1)\">\r\n       <use xlink:href=\"#DejaVuSans-56\"/>\r\n       <use x=\"63.623047\" xlink:href=\"#DejaVuSans-48\"/>\r\n      </g>\r\n     </g>\r\n    </g>\r\n    <g id=\"ytick_6\">\r\n     <g id=\"line2d_12\">\r\n      <g>\r\n       <use style=\"stroke:#000000;stroke-width:0.8;\" x=\"33.2875\" xlink:href=\"#mecbde6c0cf\" y=\"153.283791\"/>\r\n      </g>\r\n     </g>\r\n     <g id=\"text_12\">\r\n      <!-- 100 -->\r\n      <g transform=\"translate(7.2 157.08301)scale(0.1 -0.1)\">\r\n       <use xlink:href=\"#DejaVuSans-49\"/>\r\n       <use x=\"63.623047\" xlink:href=\"#DejaVuSans-48\"/>\r\n       <use x=\"127.246094\" xlink:href=\"#DejaVuSans-48\"/>\r\n      </g>\r\n     </g>\r\n    </g>\r\n    <g id=\"ytick_7\">\r\n     <g id=\"line2d_13\">\r\n      <g>\r\n       <use style=\"stroke:#000000;stroke-width:0.8;\" x=\"33.2875\" xlink:href=\"#mecbde6c0cf\" y=\"109.288776\"/>\r\n      </g>\r\n     </g>\r\n     <g id=\"text_13\">\r\n      <!-- 120 -->\r\n      <g transform=\"translate(7.2 113.087994)scale(0.1 -0.1)\">\r\n       <use xlink:href=\"#DejaVuSans-49\"/>\r\n       <use x=\"63.623047\" xlink:href=\"#DejaVuSans-50\"/>\r\n       <use x=\"127.246094\" xlink:href=\"#DejaVuSans-48\"/>\r\n      </g>\r\n     </g>\r\n    </g>\r\n    <g id=\"ytick_8\">\r\n     <g id=\"line2d_14\">\r\n      <g>\r\n       <use style=\"stroke:#000000;stroke-width:0.8;\" x=\"33.2875\" xlink:href=\"#mecbde6c0cf\" y=\"65.29376\"/>\r\n      </g>\r\n     </g>\r\n     <g id=\"text_14\">\r\n      <!-- 140 -->\r\n      <g transform=\"translate(7.2 69.092979)scale(0.1 -0.1)\">\r\n       <use xlink:href=\"#DejaVuSans-49\"/>\r\n       <use x=\"63.623047\" xlink:href=\"#DejaVuSans-52\"/>\r\n       <use x=\"127.246094\" xlink:href=\"#DejaVuSans-48\"/>\r\n      </g>\r\n     </g>\r\n    </g>\r\n   </g>\r\n   <g id=\"line2d_15\">\r\n    <path clip-path=\"url(#p21fa551b8a)\" d=\"M 51.733781 65.225455 \r\nL 67.105682 98.469514 \r\nL 82.477583 157.139464 \r\nL 97.849483 175.599366 \r\nL 113.221384 183.54035 \r\nL 128.593285 180.05133 \r\nL 143.965186 193.030232 \r\nL 159.337087 203.265353 \r\nL 174.708988 211.793315 \r\nL 190.080888 224.172434 \r\nL 205.452789 225.386751 \r\nL 220.82469 250.066993 \r\nL 236.196591 282.336401 \r\nL 251.568492 303.452784 \r\nL 266.940393 312.16627 \r\nL 282.312293 323.134614 \r\nL 297.684194 337.592959 \r\nL 313.056095 337.25701 \r\nL 328.427996 346.507897 \r\nL 343.799897 346.085905 \r\nL 359.171798 349.985341 \r\nL 374.543698 354.433049 \r\nL 389.915599 356.73439 \r\nL 405.2875 359.136238 \r\nL 420.659401 361.734545 \r\n\" style=\"fill:none;stroke:#1f77b4;stroke-linecap:square;stroke-width:1.5;\"/>\r\n   </g>\r\n   <g id=\"line2d_16\">\r\n    <path clip-path=\"url(#p21fa551b8a)\" d=\"M 51.733781 254.912421 \r\nL 67.105682 275.887203 \r\nL 82.477583 286.579302 \r\nL 97.849483 291.194588 \r\nL 113.221384 294.434518 \r\nL 128.593285 290.115154 \r\nL 143.965186 294.839579 \r\nL 159.337087 298.468021 \r\nL 174.708988 301.798897 \r\nL 190.080888 303.177471 \r\nL 205.452789 307.937529 \r\nL 220.82469 309.815609 \r\nL 236.196591 326.614311 \r\nL 251.568492 326.712217 \r\nL 266.940393 332.520892 \r\nL 282.312293 339.509196 \r\nL 297.684194 336.62795 \r\nL 313.056095 339.261401 \r\nL 328.427996 339.499617 \r\nL 343.799897 340.29108 \r\nL 359.171798 345.863053 \r\nL 374.543698 334.757338 \r\nL 389.915599 335.633076 \r\nL 405.2875 340.607316 \r\nL 420.659401 325.418073 \r\n\" style=\"fill:none;stroke:#ff7f0e;stroke-linecap:square;stroke-width:1.5;\"/>\r\n   </g>\r\n   <g id=\"patch_3\">\r\n    <path d=\"M 33.2875 376.56 \r\nL 33.2875 50.4 \r\n\" style=\"fill:none;stroke:#000000;stroke-linecap:square;stroke-linejoin:miter;stroke-width:0.8;\"/>\r\n   </g>\r\n   <g id=\"patch_4\">\r\n    <path d=\"M 439.105682 376.56 \r\nL 439.105682 50.4 \r\n\" style=\"fill:none;stroke:#000000;stroke-linecap:square;stroke-linejoin:miter;stroke-width:0.8;\"/>\r\n   </g>\r\n   <g id=\"patch_5\">\r\n    <path d=\"M 33.2875 376.56 \r\nL 439.105682 376.56 \r\n\" style=\"fill:none;stroke:#000000;stroke-linecap:square;stroke-linejoin:miter;stroke-width:0.8;\"/>\r\n   </g>\r\n   <g id=\"patch_6\">\r\n    <path d=\"M 33.2875 50.4 \r\nL 439.105682 50.4 \r\n\" style=\"fill:none;stroke:#000000;stroke-linecap:square;stroke-linejoin:miter;stroke-width:0.8;\"/>\r\n   </g>\r\n   <g id=\"text_15\">\r\n    <!-- Loss -->\r\n    <defs>\r\n     <path d=\"M 9.8125 72.90625 \r\nL 19.671875 72.90625 \r\nL 19.671875 8.296875 \r\nL 55.171875 8.296875 \r\nL 55.171875 0 \r\nL 9.8125 0 \r\nz\r\n\" id=\"DejaVuSans-76\"/>\r\n     <path d=\"M 30.609375 48.390625 \r\nQ 23.390625 48.390625 19.1875 42.75 \r\nQ 14.984375 37.109375 14.984375 27.296875 \r\nQ 14.984375 17.484375 19.15625 11.84375 \r\nQ 23.34375 6.203125 30.609375 6.203125 \r\nQ 37.796875 6.203125 41.984375 11.859375 \r\nQ 46.1875 17.53125 46.1875 27.296875 \r\nQ 46.1875 37.015625 41.984375 42.703125 \r\nQ 37.796875 48.390625 30.609375 48.390625 \r\nz\r\nM 30.609375 56 \r\nQ 42.328125 56 49.015625 48.375 \r\nQ 55.71875 40.765625 55.71875 27.296875 \r\nQ 55.71875 13.875 49.015625 6.21875 \r\nQ 42.328125 -1.421875 30.609375 -1.421875 \r\nQ 18.84375 -1.421875 12.171875 6.21875 \r\nQ 5.515625 13.875 5.515625 27.296875 \r\nQ 5.515625 40.765625 12.171875 48.375 \r\nQ 18.84375 56 30.609375 56 \r\nz\r\n\" id=\"DejaVuSans-111\"/>\r\n     <path d=\"M 44.28125 53.078125 \r\nL 44.28125 44.578125 \r\nQ 40.484375 46.53125 36.375 47.5 \r\nQ 32.28125 48.484375 27.875 48.484375 \r\nQ 21.1875 48.484375 17.84375 46.4375 \r\nQ 14.5 44.390625 14.5 40.28125 \r\nQ 14.5 37.15625 16.890625 35.375 \r\nQ 19.28125 33.59375 26.515625 31.984375 \r\nL 29.59375 31.296875 \r\nQ 39.15625 29.25 43.1875 25.515625 \r\nQ 47.21875 21.78125 47.21875 15.09375 \r\nQ 47.21875 7.46875 41.1875 3.015625 \r\nQ 35.15625 -1.421875 24.609375 -1.421875 \r\nQ 20.21875 -1.421875 15.453125 -0.5625 \r\nQ 10.6875 0.296875 5.421875 2 \r\nL 5.421875 11.28125 \r\nQ 10.40625 8.6875 15.234375 7.390625 \r\nQ 20.0625 6.109375 24.8125 6.109375 \r\nQ 31.15625 6.109375 34.5625 8.28125 \r\nQ 37.984375 10.453125 37.984375 14.40625 \r\nQ 37.984375 18.0625 35.515625 20.015625 \r\nQ 33.0625 21.96875 24.703125 23.78125 \r\nL 21.578125 24.515625 \r\nQ 13.234375 26.265625 9.515625 29.90625 \r\nQ 5.8125 33.546875 5.8125 39.890625 \r\nQ 5.8125 47.609375 11.28125 51.796875 \r\nQ 16.75 56 26.8125 56 \r\nQ 31.78125 56 36.171875 55.265625 \r\nQ 40.578125 54.546875 44.28125 53.078125 \r\nz\r\n\" id=\"DejaVuSans-115\"/>\r\n    </defs>\r\n    <g transform=\"translate(223.035966 44.4)scale(0.12 -0.12)\">\r\n     <use xlink:href=\"#DejaVuSans-76\"/>\r\n     <use x=\"53.962891\" xlink:href=\"#DejaVuSans-111\"/>\r\n     <use x=\"115.144531\" xlink:href=\"#DejaVuSans-115\"/>\r\n     <use x=\"167.244141\" xlink:href=\"#DejaVuSans-115\"/>\r\n    </g>\r\n   </g>\r\n   <g id=\"legend_1\">\r\n    <g id=\"patch_7\">\r\n     <path d=\"M 350.724432 87.75625 \r\nL 432.105682 87.75625 \r\nQ 434.105682 87.75625 434.105682 85.75625 \r\nL 434.105682 57.4 \r\nQ 434.105682 55.4 432.105682 55.4 \r\nL 350.724432 55.4 \r\nQ 348.724432 55.4 348.724432 57.4 \r\nL 348.724432 85.75625 \r\nQ 348.724432 87.75625 350.724432 87.75625 \r\nz\r\n\" style=\"fill:#ffffff;opacity:0.8;stroke:#cccccc;stroke-linejoin:miter;\"/>\r\n    </g>\r\n    <g id=\"line2d_17\">\r\n     <path d=\"M 352.724432 63.498437 \r\nL 372.724432 63.498437 \r\n\" style=\"fill:none;stroke:#1f77b4;stroke-linecap:square;stroke-width:1.5;\"/>\r\n    </g>\r\n    <g id=\"line2d_18\"/>\r\n    <g id=\"text_16\">\r\n     <!-- Train -->\r\n     <defs>\r\n      <path d=\"M -0.296875 72.90625 \r\nL 61.375 72.90625 \r\nL 61.375 64.59375 \r\nL 35.5 64.59375 \r\nL 35.5 0 \r\nL 25.59375 0 \r\nL 25.59375 64.59375 \r\nL -0.296875 64.59375 \r\nz\r\n\" id=\"DejaVuSans-84\"/>\r\n      <path d=\"M 41.109375 46.296875 \r\nQ 39.59375 47.171875 37.8125 47.578125 \r\nQ 36.03125 48 33.890625 48 \r\nQ 26.265625 48 22.1875 43.046875 \r\nQ 18.109375 38.09375 18.109375 28.8125 \r\nL 18.109375 0 \r\nL 9.078125 0 \r\nL 9.078125 54.6875 \r\nL 18.109375 54.6875 \r\nL 18.109375 46.1875 \r\nQ 20.953125 51.171875 25.484375 53.578125 \r\nQ 30.03125 56 36.53125 56 \r\nQ 37.453125 56 38.578125 55.875 \r\nQ 39.703125 55.765625 41.0625 55.515625 \r\nz\r\n\" id=\"DejaVuSans-114\"/>\r\n      <path d=\"M 34.28125 27.484375 \r\nQ 23.390625 27.484375 19.1875 25 \r\nQ 14.984375 22.515625 14.984375 16.5 \r\nQ 14.984375 11.71875 18.140625 8.90625 \r\nQ 21.296875 6.109375 26.703125 6.109375 \r\nQ 34.1875 6.109375 38.703125 11.40625 \r\nQ 43.21875 16.703125 43.21875 25.484375 \r\nL 43.21875 27.484375 \r\nz\r\nM 52.203125 31.203125 \r\nL 52.203125 0 \r\nL 43.21875 0 \r\nL 43.21875 8.296875 \r\nQ 40.140625 3.328125 35.546875 0.953125 \r\nQ 30.953125 -1.421875 24.3125 -1.421875 \r\nQ 15.921875 -1.421875 10.953125 3.296875 \r\nQ 6 8.015625 6 15.921875 \r\nQ 6 25.140625 12.171875 29.828125 \r\nQ 18.359375 34.515625 30.609375 34.515625 \r\nL 43.21875 34.515625 \r\nL 43.21875 35.40625 \r\nQ 43.21875 41.609375 39.140625 45 \r\nQ 35.0625 48.390625 27.6875 48.390625 \r\nQ 23 48.390625 18.546875 47.265625 \r\nQ 14.109375 46.140625 10.015625 43.890625 \r\nL 10.015625 52.203125 \r\nQ 14.9375 54.109375 19.578125 55.046875 \r\nQ 24.21875 56 28.609375 56 \r\nQ 40.484375 56 46.34375 49.84375 \r\nQ 52.203125 43.703125 52.203125 31.203125 \r\nz\r\n\" id=\"DejaVuSans-97\"/>\r\n      <path d=\"M 9.421875 54.6875 \r\nL 18.40625 54.6875 \r\nL 18.40625 0 \r\nL 9.421875 0 \r\nz\r\nM 9.421875 75.984375 \r\nL 18.40625 75.984375 \r\nL 18.40625 64.59375 \r\nL 9.421875 64.59375 \r\nz\r\n\" id=\"DejaVuSans-105\"/>\r\n      <path d=\"M 54.890625 33.015625 \r\nL 54.890625 0 \r\nL 45.90625 0 \r\nL 45.90625 32.71875 \r\nQ 45.90625 40.484375 42.875 44.328125 \r\nQ 39.84375 48.1875 33.796875 48.1875 \r\nQ 26.515625 48.1875 22.3125 43.546875 \r\nQ 18.109375 38.921875 18.109375 30.90625 \r\nL 18.109375 0 \r\nL 9.078125 0 \r\nL 9.078125 54.6875 \r\nL 18.109375 54.6875 \r\nL 18.109375 46.1875 \r\nQ 21.34375 51.125 25.703125 53.5625 \r\nQ 30.078125 56 35.796875 56 \r\nQ 45.21875 56 50.046875 50.171875 \r\nQ 54.890625 44.34375 54.890625 33.015625 \r\nz\r\n\" id=\"DejaVuSans-110\"/>\r\n     </defs>\r\n     <g transform=\"translate(380.724432 66.998437)scale(0.1 -0.1)\">\r\n      <use xlink:href=\"#DejaVuSans-84\"/>\r\n      <use x=\"46.333984\" xlink:href=\"#DejaVuSans-114\"/>\r\n      <use x=\"87.447266\" xlink:href=\"#DejaVuSans-97\"/>\r\n      <use x=\"148.726562\" xlink:href=\"#DejaVuSans-105\"/>\r\n      <use x=\"176.509766\" xlink:href=\"#DejaVuSans-110\"/>\r\n     </g>\r\n    </g>\r\n    <g id=\"line2d_19\">\r\n     <path d=\"M 352.724432 78.176562 \r\nL 372.724432 78.176562 \r\n\" style=\"fill:none;stroke:#ff7f0e;stroke-linecap:square;stroke-width:1.5;\"/>\r\n    </g>\r\n    <g id=\"line2d_20\"/>\r\n    <g id=\"text_17\">\r\n     <!-- Validation -->\r\n     <defs>\r\n      <path d=\"M 28.609375 0 \r\nL 0.78125 72.90625 \r\nL 11.078125 72.90625 \r\nL 34.1875 11.53125 \r\nL 57.328125 72.90625 \r\nL 67.578125 72.90625 \r\nL 39.796875 0 \r\nz\r\n\" id=\"DejaVuSans-86\"/>\r\n      <path d=\"M 9.421875 75.984375 \r\nL 18.40625 75.984375 \r\nL 18.40625 0 \r\nL 9.421875 0 \r\nz\r\n\" id=\"DejaVuSans-108\"/>\r\n      <path d=\"M 45.40625 46.390625 \r\nL 45.40625 75.984375 \r\nL 54.390625 75.984375 \r\nL 54.390625 0 \r\nL 45.40625 0 \r\nL 45.40625 8.203125 \r\nQ 42.578125 3.328125 38.25 0.953125 \r\nQ 33.9375 -1.421875 27.875 -1.421875 \r\nQ 17.96875 -1.421875 11.734375 6.484375 \r\nQ 5.515625 14.40625 5.515625 27.296875 \r\nQ 5.515625 40.1875 11.734375 48.09375 \r\nQ 17.96875 56 27.875 56 \r\nQ 33.9375 56 38.25 53.625 \r\nQ 42.578125 51.265625 45.40625 46.390625 \r\nz\r\nM 14.796875 27.296875 \r\nQ 14.796875 17.390625 18.875 11.75 \r\nQ 22.953125 6.109375 30.078125 6.109375 \r\nQ 37.203125 6.109375 41.296875 11.75 \r\nQ 45.40625 17.390625 45.40625 27.296875 \r\nQ 45.40625 37.203125 41.296875 42.84375 \r\nQ 37.203125 48.484375 30.078125 48.484375 \r\nQ 22.953125 48.484375 18.875 42.84375 \r\nQ 14.796875 37.203125 14.796875 27.296875 \r\nz\r\n\" id=\"DejaVuSans-100\"/>\r\n      <path d=\"M 18.3125 70.21875 \r\nL 18.3125 54.6875 \r\nL 36.8125 54.6875 \r\nL 36.8125 47.703125 \r\nL 18.3125 47.703125 \r\nL 18.3125 18.015625 \r\nQ 18.3125 11.328125 20.140625 9.421875 \r\nQ 21.96875 7.515625 27.59375 7.515625 \r\nL 36.8125 7.515625 \r\nL 36.8125 0 \r\nL 27.59375 0 \r\nQ 17.1875 0 13.234375 3.875 \r\nQ 9.28125 7.765625 9.28125 18.015625 \r\nL 9.28125 47.703125 \r\nL 2.6875 47.703125 \r\nL 2.6875 54.6875 \r\nL 9.28125 54.6875 \r\nL 9.28125 70.21875 \r\nz\r\n\" id=\"DejaVuSans-116\"/>\r\n     </defs>\r\n     <g transform=\"translate(380.724432 81.676562)scale(0.1 -0.1)\">\r\n      <use xlink:href=\"#DejaVuSans-86\"/>\r\n      <use x=\"60.658203\" xlink:href=\"#DejaVuSans-97\"/>\r\n      <use x=\"121.9375\" xlink:href=\"#DejaVuSans-108\"/>\r\n      <use x=\"149.720703\" xlink:href=\"#DejaVuSans-105\"/>\r\n      <use x=\"177.503906\" xlink:href=\"#DejaVuSans-100\"/>\r\n      <use x=\"240.980469\" xlink:href=\"#DejaVuSans-97\"/>\r\n      <use x=\"302.259766\" xlink:href=\"#DejaVuSans-116\"/>\r\n      <use x=\"341.46875\" xlink:href=\"#DejaVuSans-105\"/>\r\n      <use x=\"369.251953\" xlink:href=\"#DejaVuSans-111\"/>\r\n      <use x=\"430.433594\" xlink:href=\"#DejaVuSans-110\"/>\r\n     </g>\r\n    </g>\r\n   </g>\r\n  </g>\r\n  <g id=\"axes_2\">\r\n   <g id=\"patch_8\">\r\n    <path d=\"M 520.269318 376.56 \r\nL 926.0875 376.56 \r\nL 926.0875 50.4 \r\nL 520.269318 50.4 \r\nz\r\n\" style=\"fill:#ffffff;\"/>\r\n   </g>\r\n   <g id=\"matplotlib.axis_3\">\r\n    <g id=\"xtick_7\">\r\n     <g id=\"line2d_21\">\r\n      <g>\r\n       <use style=\"stroke:#000000;stroke-width:0.8;\" x=\"538.715599\" xlink:href=\"#m2d3e1c0a42\" y=\"376.56\"/>\r\n      </g>\r\n     </g>\r\n     <g id=\"text_18\">\r\n      <!-- 0 -->\r\n      <g transform=\"translate(535.534349 391.158437)scale(0.1 -0.1)\">\r\n       <use xlink:href=\"#DejaVuSans-48\"/>\r\n      </g>\r\n     </g>\r\n    </g>\r\n    <g id=\"xtick_8\">\r\n     <g id=\"line2d_22\">\r\n      <g>\r\n       <use style=\"stroke:#000000;stroke-width:0.8;\" x=\"615.575103\" xlink:href=\"#m2d3e1c0a42\" y=\"376.56\"/>\r\n      </g>\r\n     </g>\r\n     <g id=\"text_19\">\r\n      <!-- 5 -->\r\n      <g transform=\"translate(612.393853 391.158437)scale(0.1 -0.1)\">\r\n       <use xlink:href=\"#DejaVuSans-53\"/>\r\n      </g>\r\n     </g>\r\n    </g>\r\n    <g id=\"xtick_9\">\r\n     <g id=\"line2d_23\">\r\n      <g>\r\n       <use style=\"stroke:#000000;stroke-width:0.8;\" x=\"692.434607\" xlink:href=\"#m2d3e1c0a42\" y=\"376.56\"/>\r\n      </g>\r\n     </g>\r\n     <g id=\"text_20\">\r\n      <!-- 10 -->\r\n      <g transform=\"translate(686.072107 391.158437)scale(0.1 -0.1)\">\r\n       <use xlink:href=\"#DejaVuSans-49\"/>\r\n       <use x=\"63.623047\" xlink:href=\"#DejaVuSans-48\"/>\r\n      </g>\r\n     </g>\r\n    </g>\r\n    <g id=\"xtick_10\">\r\n     <g id=\"line2d_24\">\r\n      <g>\r\n       <use style=\"stroke:#000000;stroke-width:0.8;\" x=\"769.294112\" xlink:href=\"#m2d3e1c0a42\" y=\"376.56\"/>\r\n      </g>\r\n     </g>\r\n     <g id=\"text_21\">\r\n      <!-- 15 -->\r\n      <g transform=\"translate(762.931612 391.158437)scale(0.1 -0.1)\">\r\n       <use xlink:href=\"#DejaVuSans-49\"/>\r\n       <use x=\"63.623047\" xlink:href=\"#DejaVuSans-53\"/>\r\n      </g>\r\n     </g>\r\n    </g>\r\n    <g id=\"xtick_11\">\r\n     <g id=\"line2d_25\">\r\n      <g>\r\n       <use style=\"stroke:#000000;stroke-width:0.8;\" x=\"846.153616\" xlink:href=\"#m2d3e1c0a42\" y=\"376.56\"/>\r\n      </g>\r\n     </g>\r\n     <g id=\"text_22\">\r\n      <!-- 20 -->\r\n      <g transform=\"translate(839.791116 391.158437)scale(0.1 -0.1)\">\r\n       <use xlink:href=\"#DejaVuSans-50\"/>\r\n       <use x=\"63.623047\" xlink:href=\"#DejaVuSans-48\"/>\r\n      </g>\r\n     </g>\r\n    </g>\r\n    <g id=\"xtick_12\">\r\n     <g id=\"line2d_26\">\r\n      <g>\r\n       <use style=\"stroke:#000000;stroke-width:0.8;\" x=\"923.01312\" xlink:href=\"#m2d3e1c0a42\" y=\"376.56\"/>\r\n      </g>\r\n     </g>\r\n     <g id=\"text_23\">\r\n      <!-- 25 -->\r\n      <g transform=\"translate(916.65062 391.158437)scale(0.1 -0.1)\">\r\n       <use xlink:href=\"#DejaVuSans-50\"/>\r\n       <use x=\"63.623047\" xlink:href=\"#DejaVuSans-53\"/>\r\n      </g>\r\n     </g>\r\n    </g>\r\n   </g>\r\n   <g id=\"matplotlib.axis_4\">\r\n    <g id=\"ytick_9\">\r\n     <g id=\"line2d_27\">\r\n      <g>\r\n       <use style=\"stroke:#000000;stroke-width:0.8;\" x=\"520.269318\" xlink:href=\"#mecbde6c0cf\" y=\"361.316452\"/>\r\n      </g>\r\n     </g>\r\n     <g id=\"text_24\">\r\n      <!-- 0.60 -->\r\n      <defs>\r\n       <path d=\"M 10.6875 12.40625 \r\nL 21 12.40625 \r\nL 21 0 \r\nL 10.6875 0 \r\nz\r\n\" id=\"DejaVuSans-46\"/>\r\n      </defs>\r\n      <g transform=\"translate(491.003693 365.115671)scale(0.1 -0.1)\">\r\n       <use xlink:href=\"#DejaVuSans-48\"/>\r\n       <use x=\"63.623047\" xlink:href=\"#DejaVuSans-46\"/>\r\n       <use x=\"95.410156\" xlink:href=\"#DejaVuSans-54\"/>\r\n       <use x=\"159.033203\" xlink:href=\"#DejaVuSans-48\"/>\r\n      </g>\r\n     </g>\r\n    </g>\r\n    <g id=\"ytick_10\">\r\n     <g id=\"line2d_28\">\r\n      <g>\r\n       <use style=\"stroke:#000000;stroke-width:0.8;\" x=\"520.269318\" xlink:href=\"#mecbde6c0cf\" y=\"323.47757\"/>\r\n      </g>\r\n     </g>\r\n     <g id=\"text_25\">\r\n      <!-- 0.65 -->\r\n      <g transform=\"translate(491.003693 327.276788)scale(0.1 -0.1)\">\r\n       <use xlink:href=\"#DejaVuSans-48\"/>\r\n       <use x=\"63.623047\" xlink:href=\"#DejaVuSans-46\"/>\r\n       <use x=\"95.410156\" xlink:href=\"#DejaVuSans-54\"/>\r\n       <use x=\"159.033203\" xlink:href=\"#DejaVuSans-53\"/>\r\n      </g>\r\n     </g>\r\n    </g>\r\n    <g id=\"ytick_11\">\r\n     <g id=\"line2d_29\">\r\n      <g>\r\n       <use style=\"stroke:#000000;stroke-width:0.8;\" x=\"520.269318\" xlink:href=\"#mecbde6c0cf\" y=\"285.638687\"/>\r\n      </g>\r\n     </g>\r\n     <g id=\"text_26\">\r\n      <!-- 0.70 -->\r\n      <defs>\r\n       <path d=\"M 8.203125 72.90625 \r\nL 55.078125 72.90625 \r\nL 55.078125 68.703125 \r\nL 28.609375 0 \r\nL 18.3125 0 \r\nL 43.21875 64.59375 \r\nL 8.203125 64.59375 \r\nz\r\n\" id=\"DejaVuSans-55\"/>\r\n      </defs>\r\n      <g transform=\"translate(491.003693 289.437906)scale(0.1 -0.1)\">\r\n       <use xlink:href=\"#DejaVuSans-48\"/>\r\n       <use x=\"63.623047\" xlink:href=\"#DejaVuSans-46\"/>\r\n       <use x=\"95.410156\" xlink:href=\"#DejaVuSans-55\"/>\r\n       <use x=\"159.033203\" xlink:href=\"#DejaVuSans-48\"/>\r\n      </g>\r\n     </g>\r\n    </g>\r\n    <g id=\"ytick_12\">\r\n     <g id=\"line2d_30\">\r\n      <g>\r\n       <use style=\"stroke:#000000;stroke-width:0.8;\" x=\"520.269318\" xlink:href=\"#mecbde6c0cf\" y=\"247.799805\"/>\r\n      </g>\r\n     </g>\r\n     <g id=\"text_27\">\r\n      <!-- 0.75 -->\r\n      <g transform=\"translate(491.003693 251.599024)scale(0.1 -0.1)\">\r\n       <use xlink:href=\"#DejaVuSans-48\"/>\r\n       <use x=\"63.623047\" xlink:href=\"#DejaVuSans-46\"/>\r\n       <use x=\"95.410156\" xlink:href=\"#DejaVuSans-55\"/>\r\n       <use x=\"159.033203\" xlink:href=\"#DejaVuSans-53\"/>\r\n      </g>\r\n     </g>\r\n    </g>\r\n    <g id=\"ytick_13\">\r\n     <g id=\"line2d_31\">\r\n      <g>\r\n       <use style=\"stroke:#000000;stroke-width:0.8;\" x=\"520.269318\" xlink:href=\"#mecbde6c0cf\" y=\"209.960923\"/>\r\n      </g>\r\n     </g>\r\n     <g id=\"text_28\">\r\n      <!-- 0.80 -->\r\n      <g transform=\"translate(491.003693 213.760142)scale(0.1 -0.1)\">\r\n       <use xlink:href=\"#DejaVuSans-48\"/>\r\n       <use x=\"63.623047\" xlink:href=\"#DejaVuSans-46\"/>\r\n       <use x=\"95.410156\" xlink:href=\"#DejaVuSans-56\"/>\r\n       <use x=\"159.033203\" xlink:href=\"#DejaVuSans-48\"/>\r\n      </g>\r\n     </g>\r\n    </g>\r\n    <g id=\"ytick_14\">\r\n     <g id=\"line2d_32\">\r\n      <g>\r\n       <use style=\"stroke:#000000;stroke-width:0.8;\" x=\"520.269318\" xlink:href=\"#mecbde6c0cf\" y=\"172.122041\"/>\r\n      </g>\r\n     </g>\r\n     <g id=\"text_29\">\r\n      <!-- 0.85 -->\r\n      <g transform=\"translate(491.003693 175.921259)scale(0.1 -0.1)\">\r\n       <use xlink:href=\"#DejaVuSans-48\"/>\r\n       <use x=\"63.623047\" xlink:href=\"#DejaVuSans-46\"/>\r\n       <use x=\"95.410156\" xlink:href=\"#DejaVuSans-56\"/>\r\n       <use x=\"159.033203\" xlink:href=\"#DejaVuSans-53\"/>\r\n      </g>\r\n     </g>\r\n    </g>\r\n    <g id=\"ytick_15\">\r\n     <g id=\"line2d_33\">\r\n      <g>\r\n       <use style=\"stroke:#000000;stroke-width:0.8;\" x=\"520.269318\" xlink:href=\"#mecbde6c0cf\" y=\"134.283158\"/>\r\n      </g>\r\n     </g>\r\n     <g id=\"text_30\">\r\n      <!-- 0.90 -->\r\n      <defs>\r\n       <path d=\"M 10.984375 1.515625 \r\nL 10.984375 10.5 \r\nQ 14.703125 8.734375 18.5 7.8125 \r\nQ 22.3125 6.890625 25.984375 6.890625 \r\nQ 35.75 6.890625 40.890625 13.453125 \r\nQ 46.046875 20.015625 46.78125 33.40625 \r\nQ 43.953125 29.203125 39.59375 26.953125 \r\nQ 35.25 24.703125 29.984375 24.703125 \r\nQ 19.046875 24.703125 12.671875 31.3125 \r\nQ 6.296875 37.9375 6.296875 49.421875 \r\nQ 6.296875 60.640625 12.9375 67.421875 \r\nQ 19.578125 74.21875 30.609375 74.21875 \r\nQ 43.265625 74.21875 49.921875 64.515625 \r\nQ 56.59375 54.828125 56.59375 36.375 \r\nQ 56.59375 19.140625 48.40625 8.859375 \r\nQ 40.234375 -1.421875 26.421875 -1.421875 \r\nQ 22.703125 -1.421875 18.890625 -0.6875 \r\nQ 15.09375 0.046875 10.984375 1.515625 \r\nz\r\nM 30.609375 32.421875 \r\nQ 37.25 32.421875 41.125 36.953125 \r\nQ 45.015625 41.5 45.015625 49.421875 \r\nQ 45.015625 57.28125 41.125 61.84375 \r\nQ 37.25 66.40625 30.609375 66.40625 \r\nQ 23.96875 66.40625 20.09375 61.84375 \r\nQ 16.21875 57.28125 16.21875 49.421875 \r\nQ 16.21875 41.5 20.09375 36.953125 \r\nQ 23.96875 32.421875 30.609375 32.421875 \r\nz\r\n\" id=\"DejaVuSans-57\"/>\r\n      </defs>\r\n      <g transform=\"translate(491.003693 138.082377)scale(0.1 -0.1)\">\r\n       <use xlink:href=\"#DejaVuSans-48\"/>\r\n       <use x=\"63.623047\" xlink:href=\"#DejaVuSans-46\"/>\r\n       <use x=\"95.410156\" xlink:href=\"#DejaVuSans-57\"/>\r\n       <use x=\"159.033203\" xlink:href=\"#DejaVuSans-48\"/>\r\n      </g>\r\n     </g>\r\n    </g>\r\n    <g id=\"ytick_16\">\r\n     <g id=\"line2d_34\">\r\n      <g>\r\n       <use style=\"stroke:#000000;stroke-width:0.8;\" x=\"520.269318\" xlink:href=\"#mecbde6c0cf\" y=\"96.444276\"/>\r\n      </g>\r\n     </g>\r\n     <g id=\"text_31\">\r\n      <!-- 0.95 -->\r\n      <g transform=\"translate(491.003693 100.243495)scale(0.1 -0.1)\">\r\n       <use xlink:href=\"#DejaVuSans-48\"/>\r\n       <use x=\"63.623047\" xlink:href=\"#DejaVuSans-46\"/>\r\n       <use x=\"95.410156\" xlink:href=\"#DejaVuSans-57\"/>\r\n       <use x=\"159.033203\" xlink:href=\"#DejaVuSans-53\"/>\r\n      </g>\r\n     </g>\r\n    </g>\r\n    <g id=\"ytick_17\">\r\n     <g id=\"line2d_35\">\r\n      <g>\r\n       <use style=\"stroke:#000000;stroke-width:0.8;\" x=\"520.269318\" xlink:href=\"#mecbde6c0cf\" y=\"58.605394\"/>\r\n      </g>\r\n     </g>\r\n     <g id=\"text_32\">\r\n      <!-- 1.00 -->\r\n      <g transform=\"translate(491.003693 62.404613)scale(0.1 -0.1)\">\r\n       <use xlink:href=\"#DejaVuSans-49\"/>\r\n       <use x=\"63.623047\" xlink:href=\"#DejaVuSans-46\"/>\r\n       <use x=\"95.410156\" xlink:href=\"#DejaVuSans-48\"/>\r\n       <use x=\"159.033203\" xlink:href=\"#DejaVuSans-48\"/>\r\n      </g>\r\n     </g>\r\n    </g>\r\n   </g>\r\n   <g id=\"line2d_36\">\r\n    <path clip-path=\"url(#p9d0fc38059)\" d=\"M 538.715599 361.734545 \r\nL 554.0875 313.303564 \r\nL 569.459401 215.744751 \r\nL 584.831302 205.292021 \r\nL 600.203202 202.504627 \r\nL 615.575103 204.246749 \r\nL 630.947004 202.156203 \r\nL 646.318905 192.400319 \r\nL 661.690806 185.431833 \r\nL 677.062707 170.101166 \r\nL 692.434607 177.069649 \r\nL 707.806508 146.408313 \r\nL 723.178409 114.004851 \r\nL 738.55031 102.158426 \r\nL 753.922211 99.371032 \r\nL 769.294112 93.447819 \r\nL 784.666012 83.343515 \r\nL 800.037913 83.343515 \r\nL 815.409814 77.071879 \r\nL 830.781715 79.510849 \r\nL 846.153616 70.800243 \r\nL 861.525517 69.406546 \r\nL 876.897417 66.270727 \r\nL 892.269318 66.270727 \r\nL 907.641219 65.225455 \r\n\" style=\"fill:none;stroke:#1f77b4;stroke-linecap:square;stroke-width:1.5;\"/>\r\n   </g>\r\n   <g id=\"line2d_37\">\r\n    <path clip-path=\"url(#p9d0fc38059)\" d=\"M 538.715599 354.272835 \r\nL 554.0875 217.495922 \r\nL 569.459401 207.667641 \r\nL 584.831302 197.839362 \r\nL 600.203202 193.744243 \r\nL 615.575103 202.753501 \r\nL 630.947004 205.210573 \r\nL 646.318905 197.839361 \r\nL 661.690806 181.458894 \r\nL 677.062707 188.011081 \r\nL 692.434607 173.268658 \r\nL 707.806508 158.526236 \r\nL 723.178409 131.498464 \r\nL 738.55031 128.222373 \r\nL 753.922211 124.127255 \r\nL 769.294112 109.384836 \r\nL 784.666012 115.937022 \r\nL 800.037913 110.20386 \r\nL 815.409814 106.927766 \r\nL 830.781715 106.108744 \r\nL 846.153616 98.737533 \r\nL 861.525517 107.746788 \r\nL 876.897417 104.470698 \r\nL 892.269318 100.37558 \r\nL 907.641219 114.298975 \r\n\" style=\"fill:none;stroke:#ff7f0e;stroke-linecap:square;stroke-width:1.5;\"/>\r\n   </g>\r\n   <g id=\"patch_9\">\r\n    <path d=\"M 520.269318 376.56 \r\nL 520.269318 50.4 \r\n\" style=\"fill:none;stroke:#000000;stroke-linecap:square;stroke-linejoin:miter;stroke-width:0.8;\"/>\r\n   </g>\r\n   <g id=\"patch_10\">\r\n    <path d=\"M 926.0875 376.56 \r\nL 926.0875 50.4 \r\n\" style=\"fill:none;stroke:#000000;stroke-linecap:square;stroke-linejoin:miter;stroke-width:0.8;\"/>\r\n   </g>\r\n   <g id=\"patch_11\">\r\n    <path d=\"M 520.269318 376.56 \r\nL 926.0875 376.56 \r\n\" style=\"fill:none;stroke:#000000;stroke-linecap:square;stroke-linejoin:miter;stroke-width:0.8;\"/>\r\n   </g>\r\n   <g id=\"patch_12\">\r\n    <path d=\"M 520.269318 50.4 \r\nL 926.0875 50.4 \r\n\" style=\"fill:none;stroke:#000000;stroke-linecap:square;stroke-linejoin:miter;stroke-width:0.8;\"/>\r\n   </g>\r\n   <g id=\"text_33\">\r\n    <!-- Accuracy -->\r\n    <defs>\r\n     <path d=\"M 34.1875 63.1875 \r\nL 20.796875 26.90625 \r\nL 47.609375 26.90625 \r\nz\r\nM 28.609375 72.90625 \r\nL 39.796875 72.90625 \r\nL 67.578125 0 \r\nL 57.328125 0 \r\nL 50.6875 18.703125 \r\nL 17.828125 18.703125 \r\nL 11.1875 0 \r\nL 0.78125 0 \r\nz\r\n\" id=\"DejaVuSans-65\"/>\r\n     <path d=\"M 48.78125 52.59375 \r\nL 48.78125 44.1875 \r\nQ 44.96875 46.296875 41.140625 47.34375 \r\nQ 37.3125 48.390625 33.40625 48.390625 \r\nQ 24.65625 48.390625 19.8125 42.84375 \r\nQ 14.984375 37.3125 14.984375 27.296875 \r\nQ 14.984375 17.28125 19.8125 11.734375 \r\nQ 24.65625 6.203125 33.40625 6.203125 \r\nQ 37.3125 6.203125 41.140625 7.25 \r\nQ 44.96875 8.296875 48.78125 10.40625 \r\nL 48.78125 2.09375 \r\nQ 45.015625 0.34375 40.984375 -0.53125 \r\nQ 36.96875 -1.421875 32.421875 -1.421875 \r\nQ 20.0625 -1.421875 12.78125 6.34375 \r\nQ 5.515625 14.109375 5.515625 27.296875 \r\nQ 5.515625 40.671875 12.859375 48.328125 \r\nQ 20.21875 56 33.015625 56 \r\nQ 37.15625 56 41.109375 55.140625 \r\nQ 45.0625 54.296875 48.78125 52.59375 \r\nz\r\n\" id=\"DejaVuSans-99\"/>\r\n     <path d=\"M 8.5 21.578125 \r\nL 8.5 54.6875 \r\nL 17.484375 54.6875 \r\nL 17.484375 21.921875 \r\nQ 17.484375 14.15625 20.5 10.265625 \r\nQ 23.53125 6.390625 29.59375 6.390625 \r\nQ 36.859375 6.390625 41.078125 11.03125 \r\nQ 45.3125 15.671875 45.3125 23.6875 \r\nL 45.3125 54.6875 \r\nL 54.296875 54.6875 \r\nL 54.296875 0 \r\nL 45.3125 0 \r\nL 45.3125 8.40625 \r\nQ 42.046875 3.421875 37.71875 1 \r\nQ 33.40625 -1.421875 27.6875 -1.421875 \r\nQ 18.265625 -1.421875 13.375 4.4375 \r\nQ 8.5 10.296875 8.5 21.578125 \r\nz\r\nM 31.109375 56 \r\nz\r\n\" id=\"DejaVuSans-117\"/>\r\n     <path d=\"M 32.171875 -5.078125 \r\nQ 28.375 -14.84375 24.75 -17.8125 \r\nQ 21.140625 -20.796875 15.09375 -20.796875 \r\nL 7.90625 -20.796875 \r\nL 7.90625 -13.28125 \r\nL 13.1875 -13.28125 \r\nQ 16.890625 -13.28125 18.9375 -11.515625 \r\nQ 21 -9.765625 23.484375 -3.21875 \r\nL 25.09375 0.875 \r\nL 2.984375 54.6875 \r\nL 12.5 54.6875 \r\nL 29.59375 11.921875 \r\nL 46.6875 54.6875 \r\nL 56.203125 54.6875 \r\nz\r\n\" id=\"DejaVuSans-121\"/>\r\n    </defs>\r\n    <g transform=\"translate(695.784659 44.4)scale(0.12 -0.12)\">\r\n     <use xlink:href=\"#DejaVuSans-65\"/>\r\n     <use x=\"66.658203\" xlink:href=\"#DejaVuSans-99\"/>\r\n     <use x=\"121.638672\" xlink:href=\"#DejaVuSans-99\"/>\r\n     <use x=\"176.619141\" xlink:href=\"#DejaVuSans-117\"/>\r\n     <use x=\"239.998047\" xlink:href=\"#DejaVuSans-114\"/>\r\n     <use x=\"281.111328\" xlink:href=\"#DejaVuSans-97\"/>\r\n     <use x=\"342.390625\" xlink:href=\"#DejaVuSans-99\"/>\r\n     <use x=\"397.371094\" xlink:href=\"#DejaVuSans-121\"/>\r\n    </g>\r\n   </g>\r\n   <g id=\"legend_2\">\r\n    <g id=\"patch_13\">\r\n     <path d=\"M 527.269318 87.75625 \r\nL 608.650568 87.75625 \r\nQ 610.650568 87.75625 610.650568 85.75625 \r\nL 610.650568 57.4 \r\nQ 610.650568 55.4 608.650568 55.4 \r\nL 527.269318 55.4 \r\nQ 525.269318 55.4 525.269318 57.4 \r\nL 525.269318 85.75625 \r\nQ 525.269318 87.75625 527.269318 87.75625 \r\nz\r\n\" style=\"fill:#ffffff;opacity:0.8;stroke:#cccccc;stroke-linejoin:miter;\"/>\r\n    </g>\r\n    <g id=\"line2d_38\">\r\n     <path d=\"M 529.269318 63.498437 \r\nL 549.269318 63.498437 \r\n\" style=\"fill:none;stroke:#1f77b4;stroke-linecap:square;stroke-width:1.5;\"/>\r\n    </g>\r\n    <g id=\"line2d_39\"/>\r\n    <g id=\"text_34\">\r\n     <!-- Train -->\r\n     <g transform=\"translate(557.269318 66.998437)scale(0.1 -0.1)\">\r\n      <use xlink:href=\"#DejaVuSans-84\"/>\r\n      <use x=\"46.333984\" xlink:href=\"#DejaVuSans-114\"/>\r\n      <use x=\"87.447266\" xlink:href=\"#DejaVuSans-97\"/>\r\n      <use x=\"148.726562\" xlink:href=\"#DejaVuSans-105\"/>\r\n      <use x=\"176.509766\" xlink:href=\"#DejaVuSans-110\"/>\r\n     </g>\r\n    </g>\r\n    <g id=\"line2d_40\">\r\n     <path d=\"M 529.269318 78.176562 \r\nL 549.269318 78.176562 \r\n\" style=\"fill:none;stroke:#ff7f0e;stroke-linecap:square;stroke-width:1.5;\"/>\r\n    </g>\r\n    <g id=\"line2d_41\"/>\r\n    <g id=\"text_35\">\r\n     <!-- Validation -->\r\n     <g transform=\"translate(557.269318 81.676562)scale(0.1 -0.1)\">\r\n      <use xlink:href=\"#DejaVuSans-86\"/>\r\n      <use x=\"60.658203\" xlink:href=\"#DejaVuSans-97\"/>\r\n      <use x=\"121.9375\" xlink:href=\"#DejaVuSans-108\"/>\r\n      <use x=\"149.720703\" xlink:href=\"#DejaVuSans-105\"/>\r\n      <use x=\"177.503906\" xlink:href=\"#DejaVuSans-100\"/>\r\n      <use x=\"240.980469\" xlink:href=\"#DejaVuSans-97\"/>\r\n      <use x=\"302.259766\" xlink:href=\"#DejaVuSans-116\"/>\r\n      <use x=\"341.46875\" xlink:href=\"#DejaVuSans-105\"/>\r\n      <use x=\"369.251953\" xlink:href=\"#DejaVuSans-111\"/>\r\n      <use x=\"430.433594\" xlink:href=\"#DejaVuSans-110\"/>\r\n     </g>\r\n    </g>\r\n   </g>\r\n  </g>\r\n  <g id=\"text_36\">\r\n   <!-- Entrenamiento CNN-LSTM -->\r\n   <defs>\r\n    <path d=\"M 9.8125 72.90625 \r\nL 55.90625 72.90625 \r\nL 55.90625 64.59375 \r\nL 19.671875 64.59375 \r\nL 19.671875 43.015625 \r\nL 54.390625 43.015625 \r\nL 54.390625 34.71875 \r\nL 19.671875 34.71875 \r\nL 19.671875 8.296875 \r\nL 56.78125 8.296875 \r\nL 56.78125 0 \r\nL 9.8125 0 \r\nz\r\n\" id=\"DejaVuSans-69\"/>\r\n    <path d=\"M 56.203125 29.59375 \r\nL 56.203125 25.203125 \r\nL 14.890625 25.203125 \r\nQ 15.484375 15.921875 20.484375 11.0625 \r\nQ 25.484375 6.203125 34.421875 6.203125 \r\nQ 39.59375 6.203125 44.453125 7.46875 \r\nQ 49.3125 8.734375 54.109375 11.28125 \r\nL 54.109375 2.78125 \r\nQ 49.265625 0.734375 44.1875 -0.34375 \r\nQ 39.109375 -1.421875 33.890625 -1.421875 \r\nQ 20.796875 -1.421875 13.15625 6.1875 \r\nQ 5.515625 13.8125 5.515625 26.8125 \r\nQ 5.515625 40.234375 12.765625 48.109375 \r\nQ 20.015625 56 32.328125 56 \r\nQ 43.359375 56 49.78125 48.890625 \r\nQ 56.203125 41.796875 56.203125 29.59375 \r\nz\r\nM 47.21875 32.234375 \r\nQ 47.125 39.59375 43.09375 43.984375 \r\nQ 39.0625 48.390625 32.421875 48.390625 \r\nQ 24.90625 48.390625 20.390625 44.140625 \r\nQ 15.875 39.890625 15.1875 32.171875 \r\nz\r\n\" id=\"DejaVuSans-101\"/>\r\n    <path d=\"M 52 44.1875 \r\nQ 55.375 50.25 60.0625 53.125 \r\nQ 64.75 56 71.09375 56 \r\nQ 79.640625 56 84.28125 50.015625 \r\nQ 88.921875 44.046875 88.921875 33.015625 \r\nL 88.921875 0 \r\nL 79.890625 0 \r\nL 79.890625 32.71875 \r\nQ 79.890625 40.578125 77.09375 44.375 \r\nQ 74.3125 48.1875 68.609375 48.1875 \r\nQ 61.625 48.1875 57.5625 43.546875 \r\nQ 53.515625 38.921875 53.515625 30.90625 \r\nL 53.515625 0 \r\nL 44.484375 0 \r\nL 44.484375 32.71875 \r\nQ 44.484375 40.625 41.703125 44.40625 \r\nQ 38.921875 48.1875 33.109375 48.1875 \r\nQ 26.21875 48.1875 22.15625 43.53125 \r\nQ 18.109375 38.875 18.109375 30.90625 \r\nL 18.109375 0 \r\nL 9.078125 0 \r\nL 9.078125 54.6875 \r\nL 18.109375 54.6875 \r\nL 18.109375 46.1875 \r\nQ 21.1875 51.21875 25.484375 53.609375 \r\nQ 29.78125 56 35.6875 56 \r\nQ 41.65625 56 45.828125 52.96875 \r\nQ 50 49.953125 52 44.1875 \r\nz\r\n\" id=\"DejaVuSans-109\"/>\r\n    <path id=\"DejaVuSans-32\"/>\r\n    <path d=\"M 64.40625 67.28125 \r\nL 64.40625 56.890625 \r\nQ 59.421875 61.53125 53.78125 63.8125 \r\nQ 48.140625 66.109375 41.796875 66.109375 \r\nQ 29.296875 66.109375 22.65625 58.46875 \r\nQ 16.015625 50.828125 16.015625 36.375 \r\nQ 16.015625 21.96875 22.65625 14.328125 \r\nQ 29.296875 6.6875 41.796875 6.6875 \r\nQ 48.140625 6.6875 53.78125 8.984375 \r\nQ 59.421875 11.28125 64.40625 15.921875 \r\nL 64.40625 5.609375 \r\nQ 59.234375 2.09375 53.4375 0.328125 \r\nQ 47.65625 -1.421875 41.21875 -1.421875 \r\nQ 24.65625 -1.421875 15.125 8.703125 \r\nQ 5.609375 18.84375 5.609375 36.375 \r\nQ 5.609375 53.953125 15.125 64.078125 \r\nQ 24.65625 74.21875 41.21875 74.21875 \r\nQ 47.75 74.21875 53.53125 72.484375 \r\nQ 59.328125 70.75 64.40625 67.28125 \r\nz\r\n\" id=\"DejaVuSans-67\"/>\r\n    <path d=\"M 9.8125 72.90625 \r\nL 23.09375 72.90625 \r\nL 55.421875 11.921875 \r\nL 55.421875 72.90625 \r\nL 64.984375 72.90625 \r\nL 64.984375 0 \r\nL 51.703125 0 \r\nL 19.390625 60.984375 \r\nL 19.390625 0 \r\nL 9.8125 0 \r\nz\r\n\" id=\"DejaVuSans-78\"/>\r\n    <path d=\"M 4.890625 31.390625 \r\nL 31.203125 31.390625 \r\nL 31.203125 23.390625 \r\nL 4.890625 23.390625 \r\nz\r\n\" id=\"DejaVuSans-45\"/>\r\n    <path d=\"M 53.515625 70.515625 \r\nL 53.515625 60.890625 \r\nQ 47.90625 63.578125 42.921875 64.890625 \r\nQ 37.9375 66.21875 33.296875 66.21875 \r\nQ 25.25 66.21875 20.875 63.09375 \r\nQ 16.5 59.96875 16.5 54.203125 \r\nQ 16.5 49.359375 19.40625 46.890625 \r\nQ 22.3125 44.4375 30.421875 42.921875 \r\nL 36.375 41.703125 \r\nQ 47.40625 39.59375 52.65625 34.296875 \r\nQ 57.90625 29 57.90625 20.125 \r\nQ 57.90625 9.515625 50.796875 4.046875 \r\nQ 43.703125 -1.421875 29.984375 -1.421875 \r\nQ 24.8125 -1.421875 18.96875 -0.25 \r\nQ 13.140625 0.921875 6.890625 3.21875 \r\nL 6.890625 13.375 \r\nQ 12.890625 10.015625 18.65625 8.296875 \r\nQ 24.421875 6.59375 29.984375 6.59375 \r\nQ 38.421875 6.59375 43.015625 9.90625 \r\nQ 47.609375 13.234375 47.609375 19.390625 \r\nQ 47.609375 24.75 44.3125 27.78125 \r\nQ 41.015625 30.8125 33.5 32.328125 \r\nL 27.484375 33.5 \r\nQ 16.453125 35.6875 11.515625 40.375 \r\nQ 6.59375 45.0625 6.59375 53.421875 \r\nQ 6.59375 63.09375 13.40625 68.65625 \r\nQ 20.21875 74.21875 32.171875 74.21875 \r\nQ 37.3125 74.21875 42.625 73.28125 \r\nQ 47.953125 72.359375 53.515625 70.515625 \r\nz\r\n\" id=\"DejaVuSans-83\"/>\r\n    <path d=\"M 9.8125 72.90625 \r\nL 24.515625 72.90625 \r\nL 43.109375 23.296875 \r\nL 61.8125 72.90625 \r\nL 76.515625 72.90625 \r\nL 76.515625 0 \r\nL 66.890625 0 \r\nL 66.890625 64.015625 \r\nL 48.09375 14.015625 \r\nL 38.1875 14.015625 \r\nL 19.390625 64.015625 \r\nL 19.390625 0 \r\nL 9.8125 0 \r\nz\r\n\" id=\"DejaVuSans-77\"/>\r\n   </defs>\r\n   <g transform=\"translate(387.577188 16.318125)scale(0.12 -0.12)\">\r\n    <use xlink:href=\"#DejaVuSans-69\"/>\r\n    <use x=\"63.183594\" xlink:href=\"#DejaVuSans-110\"/>\r\n    <use x=\"126.5625\" xlink:href=\"#DejaVuSans-116\"/>\r\n    <use x=\"165.771484\" xlink:href=\"#DejaVuSans-114\"/>\r\n    <use x=\"204.634766\" xlink:href=\"#DejaVuSans-101\"/>\r\n    <use x=\"266.158203\" xlink:href=\"#DejaVuSans-110\"/>\r\n    <use x=\"329.537109\" xlink:href=\"#DejaVuSans-97\"/>\r\n    <use x=\"390.816406\" xlink:href=\"#DejaVuSans-109\"/>\r\n    <use x=\"488.228516\" xlink:href=\"#DejaVuSans-105\"/>\r\n    <use x=\"516.011719\" xlink:href=\"#DejaVuSans-101\"/>\r\n    <use x=\"577.535156\" xlink:href=\"#DejaVuSans-110\"/>\r\n    <use x=\"640.914062\" xlink:href=\"#DejaVuSans-116\"/>\r\n    <use x=\"680.123047\" xlink:href=\"#DejaVuSans-111\"/>\r\n    <use x=\"741.304688\" xlink:href=\"#DejaVuSans-32\"/>\r\n    <use x=\"773.091797\" xlink:href=\"#DejaVuSans-67\"/>\r\n    <use x=\"842.916016\" xlink:href=\"#DejaVuSans-78\"/>\r\n    <use x=\"917.720703\" xlink:href=\"#DejaVuSans-78\"/>\r\n    <use x=\"992.525391\" xlink:href=\"#DejaVuSans-45\"/>\r\n    <use x=\"1028.609375\" xlink:href=\"#DejaVuSans-76\"/>\r\n    <use x=\"1084.322266\" xlink:href=\"#DejaVuSans-83\"/>\r\n    <use x=\"1147.798828\" xlink:href=\"#DejaVuSans-84\"/>\r\n    <use x=\"1208.882812\" xlink:href=\"#DejaVuSans-77\"/>\r\n   </g>\r\n  </g>\r\n </g>\r\n <defs>\r\n  <clipPath id=\"p21fa551b8a\">\r\n   <rect height=\"326.16\" width=\"405.818182\" x=\"33.2875\" y=\"50.4\"/>\r\n  </clipPath>\r\n  <clipPath id=\"p9d0fc38059\">\r\n   <rect height=\"326.16\" width=\"405.818182\" x=\"520.269318\" y=\"50.4\"/>\r\n  </clipPath>\r\n </defs>\r\n</svg>\r\n",
      "image/png": "[encoded data removed]"
     },
     "metadata": {
      "needs_background": "light"
     }
    }
   ],
   "source": [
    "plt.figure(figsize = (16,6))\n",
    "plt.suptitle(\"Entrenamiento CNN-LSTM\")\n",
    "plt.subplot(1,2,1)\n",
    "plt.title(\"Loss\")\n",
    "plt.plot(a, label = \"Train\")\n",
    "plt.plot(c, label = \"Validation\")\n",
    "plt.legend()\n",
    "plt.subplot(1,2,2)\n",
    "plt.title(\"Accuracy\")\n",
    "plt.plot(b, label = \"Train\")\n",
    "plt.plot(d, label = \"Validation\")\n",
    "plt.legend()\n",
    "plt.savefig(\"Presentacion/Trainings/EntrenamientoCNN-LSTM_No11.png\")\n",
    "plt.show()"
   ]
  },
  {
   "cell_type": "code",
   "execution_count": 56,
   "metadata": {},
   "outputs": [],
   "source": [
    "torch.save(model_temporal.state_dict(), \"ModeloLSTM_NO11_12_13_522_BotonRojo.pth\")"
   ]
  }
 ]
}